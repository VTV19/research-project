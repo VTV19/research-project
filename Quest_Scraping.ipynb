{
  "cells": [
    {
      "cell_type": "markdown",
      "metadata": {
        "id": "6b1928b4"
      },
      "source": [
        "# Информация о квестах Москвы\n",
        "\n",
        "В данной части исследования мы произвели сбор информации о квестах Москвы. \n",
        "\n",
        "Сайты: \n",
        "- https://mir-kvestov.ru/\n",
        "- https://topkvestov.ru/"
      ],
      "id": "6b1928b4"
    },
    {
      "cell_type": "markdown",
      "metadata": {
        "id": "28230451"
      },
      "source": [
        "### Описание технической части реализации задачи."
      ],
      "id": "28230451"
    },
    {
      "cell_type": "markdown",
      "metadata": {
        "id": "9b4ba4f9"
      },
      "source": [
        "Для сбора и хранения данных мы использовали предназначенные специально для этого библиотеки requests и bs4. Для хранения информации о квестах и более удобной работы с ней мы решили создать модель, которую назвали Quest. С самого начала мы хотели собирать данные сразу с нескольких сайтов, поэтому решили разработать \"гибкую\" структуру программы: мы создали класс DataCollector, который описывает поведение сборщика данных с определенного сайта и содежит все требования по его интерфейсу и работе. Далее нами были добавлены два класса для сбора данных с конкретных сайтов: MirKvestovDataCollector для сайта Мир Квестов(https://mir-kvestov.ru/) и TopKvestovDataCollector для сайта Топ Квестов(https://topkvestov.ru/). Оба класса наследуют от DataCollector, поэтому мы можем гарантировать их корректную работу. После сбора информации о квестах мы сохранили все полученные данные в файл \"quests.xlsx\"."
      ],
      "id": "9b4ba4f9"
    },
    {
      "cell_type": "markdown",
      "metadata": {
        "id": "077184f5"
      },
      "source": [
        "### Описание собираемых данных"
      ],
      "id": "077184f5"
    },
    {
      "cell_type": "markdown",
      "metadata": {
        "id": "75022235"
      },
      "source": [
        "Мы решили, что наиболее удобным и безопасным будет хранение данных в строковом виде, поэтому использовали тип str в нашей модели. Собирая информацию о квестах, мы искали значения следующих переменных:\n",
        "- Название квеста\n",
        "- Компания, организующая квест\n",
        "- Допустимое число игроков\n",
        "- Продолжительность квеста в минутах\n",
        "- Цена квеста\n",
        "- Возрастные ограничения для игроков\n",
        "- Уровень сложности квеста\n",
        "- Контактный телефон\n",
        "- Адрес локации\n",
        "- Описание квеста\n",
        "\n",
        "Во время сбора данных о сложности квеста мы столкнулись с проблемой: на разных сайтах оценка сложности имела разную шкалу. Было принято решение при необходимости приводить данные к унифицированному виду."
      ],
      "id": "75022235"
    },
    {
      "cell_type": "markdown",
      "metadata": {
        "id": "74fa4833"
      },
      "source": [
        "### Исходный код"
      ],
      "id": "74fa4833"
    },
    {
      "cell_type": "code",
      "execution_count": null,
      "metadata": {
        "id": "c3185195"
      },
      "outputs": [],
      "source": [
        "# Подключение библиотек\n",
        "import requests\n",
        "import time as wait\n",
        "import pandas as pd\n",
        "from bs4 import BeautifulSoup\n",
        "from abc import abstractmethod, ABC\n"
      ],
      "id": "c3185195"
    },
    {
      "cell_type": "code",
      "execution_count": null,
      "metadata": {
        "id": "d4b3da9e"
      },
      "outputs": [],
      "source": [
        "class Quest:\n",
        "    \"\"\"\n",
        "    Представляет модель для хранения информации о квестах после сбора данных с сайтов.\n",
        "    \"\"\"\n",
        "\n",
        "    def __init__(self, quest_name: str, company_name: str,\n",
        "                 number_of_players: str, time: str, price: str, minimal_age: str,\n",
        "                 difficulty_level: str, contact_phone: str, address: str, description: str) -> None:\n",
        "        # Название квеста.\n",
        "        self.quest_name = quest_name\n",
        "\n",
        "        # Компания - организатор.\n",
        "        self.company_name = company_name\n",
        "\n",
        "        # Допустимое число игроков.\n",
        "        self.number_of_players = number_of_players\n",
        "\n",
        "        # Продолжительность квеста.\n",
        "        self.time = time\n",
        "\n",
        "        # Цена квеста.\n",
        "        self.price = price\n",
        "\n",
        "        # Возрастные ограничения квеста.\n",
        "        self.minimal_age = minimal_age\n",
        "\n",
        "        # Уровень сложности квеста.\n",
        "        self.difficulty_level = difficulty_level\n",
        "\n",
        "        # Контактный телефон.\n",
        "        self.contact_phone = contact_phone\n",
        "\n",
        "        # Адрес.\n",
        "        self.adress = address\n",
        "\n",
        "        # Описание.\n",
        "        self.description = description  \n",
        "        \n",
        "    def to_pandas(self) -> list:\n",
        "        return [self.quest_name, self.company_name, self.number_of_players,\n",
        "                self.time, self.price, self.minimal_age, self.difficulty_level,\n",
        "                self.contact_phone, self.adress, self.description]\n",
        "        \n",
        "    def __str__(self) -> str:\n",
        "        return f\"{self.quest_name}({self.number_of_players}, {self.time}): {self.contact_phone}, {self.adress}\"\n",
        "    "
      ],
      "id": "d4b3da9e"
    },
    {
      "cell_type": "code",
      "execution_count": null,
      "metadata": {
        "id": "d18427e4"
      },
      "outputs": [],
      "source": [
        "class DataCollector(ABC):\n",
        "    \"\"\"\n",
        "    Представляет поведение объекта, собирающего данные о квестах с конкретного сайта.\n",
        "    \"\"\"\n",
        "    \n",
        "    @abstractmethod\n",
        "    def get_data(self, page_count: int) -> list:\n",
        "        \"\"\"\n",
        "        Получить данные о квестах.\n",
        "        :param page_count: максимальное количество страниц, с которых будет произведен сбор данных.  \n",
        "        :return: Собранные данные в формате Quest.\n",
        "        \"\"\"\n",
        "        pass"
      ],
      "id": "d18427e4"
    },
    {
      "cell_type": "code",
      "execution_count": null,
      "metadata": {
        "id": "7a6b1361"
      },
      "outputs": [],
      "source": [
        "class MirKvestovDataCollector(DataCollector):\n",
        "    \"\"\"\n",
        "    Осуществляет сбор данных с сайта Мир Квестов (https://mir-kvestov.ru/).\n",
        "    \"\"\"\n",
        "    \n",
        "    def __init__(self):\n",
        "        self.start_uri = \"https://mir-kvestov.ru/\"\n",
        "    \n",
        "    def __get_links(self):\n",
        "        page = BeautifulSoup(requests.get(self.start_uri).text, 'html.parser')\n",
        "        links = page.body.main.findAll(\"a\", class_=\"quest_tile_name_link\")\n",
        "        \n",
        "        return [self.start_uri + link[\"href\"] for link in links]\n",
        "    \n",
        "    def __get_quest(self, link):\n",
        "        try:\n",
        "            page = BeautifulSoup(requests.get(link).text, 'html.parser')\n",
        "            # Вспомогательные переменные для ограничения области поиска.\n",
        "            masthead = page.main.find(class_=\"masthead\")\n",
        "            main_info = masthead.find(class_=\"params-ul\").findAll(\"li\", class_=\"cell\")\n",
        "            contacts = page.find(class_=\"contacts\", id=\"contacts\")\n",
        "\n",
        "            quest_name = masthead.findAll(\"h1\")[0].text\n",
        "            company_name = masthead.find(\"p\", class_=\"company\").text\n",
        "            number_of_players = main_info[0].find(\"span\", class_=\"td\").get_text().replace(\"\\u200a–\\u200a\", \"-\")\n",
        "            game_time = main_info[1].find(\"span\", class_=\"td\").get_text()\n",
        "            price = main_info[2].find(\"span\", class_=\"td\").get_text()\n",
        "            minimal_age = main_info[5].find(\"span\", class_=\"td\").text.replace(\"*\", \"\")\n",
        "            difficulty = min(10, int(len(main_info[3].find(\"span\", class_=\"td\").findAll(\"i\", class_=\"fa fa-key\")) / 3 * 10))\n",
        "            address = contacts.span.span.text\n",
        "            contact_phone = contacts.a.text\n",
        "            description = \"\".join([element.text for element in page.findAll(id=\"description\")[0].findAll(\"p\")])\n",
        "            \n",
        "            return Quest(quest_name, company_name,\n",
        "                         number_of_players, game_time, price, minimal_age, difficulty,\n",
        "                         contact_phone, address, description)\n",
        "        except:\n",
        "            return None\n",
        "\n",
        "    def get_data(self, page_count: int) -> list:\n",
        "        data = list()\n",
        "        for link in self.__get_links()[:page_count]:\n",
        "            data.append(self.__get_quest(link))\n",
        "            wait.sleep(1)\n",
        "        return data"
      ],
      "id": "7a6b1361"
    },
    {
      "cell_type": "code",
      "execution_count": null,
      "metadata": {
        "colab": {
          "background_save": true
        },
        "id": "40ba8e33"
      },
      "outputs": [],
      "source": [
        "class TopKvestovDataCollector(DataCollector):\n",
        "    \"\"\"\n",
        "    Осуществляет сбор данных с сайта Топ Квестов (https://topkvestov.ru/).\n",
        "    \"\"\"\n",
        "    \n",
        "    def __init__(self):\n",
        "        self.start_uri = \"https://topkvestov.ru/\"\n",
        "        \n",
        "    def __get_links(self):\n",
        "        page = BeautifulSoup(requests.get(self.start_uri).text, 'html.parser')\n",
        "        \n",
        "        return [link[\"href\"] for link in page.find(class_=\"row-f\", id=\"quests-block\").findAll(\"a\", class_=\"cover-content-hover\")]\n",
        "    \n",
        "    def __get_quest(self, link):        \n",
        "        try:\n",
        "            page = BeautifulSoup(requests.get(link).text, 'html.parser')\n",
        "\n",
        "            # Вспомогательная переменная для ограничения области поиска.\n",
        "            contacts = page.find(class_=\"resp-list\")\n",
        "\n",
        "            quest_name = page.body.find(\"h1\").text\n",
        "            company_name = page.find(class_=\"from-company text-pur\").a.text\n",
        "            number_of_players = page.find(class_=\"human-count\").text.strip()\n",
        "            game_time = page.find(class_=\"quest-time\").text.strip()\n",
        "            difficulty = page.find(class_=\"level-count\").text.strip()\n",
        "            minimal_age = page.find(class_=\"badge badge-lg purple age-limit\").text.strip()\n",
        "            price = page.find(class_=\"price_value\").text.strip()\n",
        "            contact_phone = contacts.find(\"a\", class_=\"phone text-yel\").text.strip()\n",
        "            address = contacts.findAll(\"li\")[2].text.replace(\"(показать на карте)\", \"\")\n",
        "            description = page.find(class_=\"quest-text-big open\").text.replace(\"\\xa0\", \"\")\n",
        "            \n",
        "            return Quest(quest_name, company_name,\n",
        "                         number_of_players, game_time, price, minimal_age, difficulty,\n",
        "                         contact_phone, address, description)\n",
        "        except:\n",
        "            return None\n",
        "        \n",
        "    def get_data(self, page_count: int) -> list:\n",
        "        data = list()\n",
        "        for link in self.__get_links()[:page_count]:\n",
        "            data.append(self.__get_quest(link))\n",
        "            wait.sleep(1)\n",
        "        return data"
      ],
      "id": "40ba8e33"
    },
    {
      "cell_type": "code",
      "execution_count": null,
      "metadata": {
        "id": "e6f0afee",
        "outputId": "d5da4a11-3afc-4875-d068-ae1875115cd8"
      },
      "outputs": [
        {
          "name": "stderr",
          "output_type": "stream",
          "text": [
            "\n",
            "KeyboardInterrupt\n",
            "\n"
          ]
        }
      ],
      "source": [
        "web_pages_per_collector = 100\n",
        "output_file = \"quests.xlsx\"\n",
        "\n",
        "collectors = [\n",
        "    MirKvestovDataCollector(),\n",
        "    TopKvestovDataCollector()\n",
        "]\n",
        "\n",
        "quests = list()\n",
        "for collector in collectors:\n",
        "    quests.extend(collector.get_data(web_pages_per_collector))\n",
        "\n",
        "df = pd.DataFrame([x.to_pandas() for x in quests])\n",
        "df.columns = [\"Название\", \"Организатор\", \"Количество участников\",\n",
        "              \"Продолжительность(мин)\", \"Цена\", \"Возрастное ограничение\",\n",
        "              \"Сложность\", \"Телефон\", \"Адрес\", \"Описание\"]\n",
        "\n",
        "df.to_excel(output_file)\n",
        "df"
      ],
      "id": "e6f0afee"
    },
    {
      "cell_type": "markdown",
      "source": [
        "Авторы: Волкова Татьяна и Ларина Дарья (БПИ224)"
      ],
      "metadata": {
        "id": "inYJ4oCI_QiX"
      },
      "id": "inYJ4oCI_QiX"
    }
  ],
  "metadata": {
    "colab": {
      "provenance": []
    },
    "kernelspec": {
      "display_name": "Python 3 (ipykernel)",
      "language": "python",
      "name": "python3"
    },
    "language_info": {
      "codemirror_mode": {
        "name": "ipython",
        "version": 3
      },
      "file_extension": ".py",
      "mimetype": "text/x-python",
      "name": "python",
      "nbconvert_exporter": "python",
      "pygments_lexer": "ipython3",
      "version": "3.9.12"
    }
  },
  "nbformat": 4,
  "nbformat_minor": 5
}