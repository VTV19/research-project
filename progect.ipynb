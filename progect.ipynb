{
  "nbformat": 4,
  "nbformat_minor": 0,
  "metadata": {
    "colab": {
      "provenance": [],
      "collapsed_sections": [
        "O8A24dutTuMg",
        "fz518HuvdCz_"
      ]
    },
    "kernelspec": {
      "name": "python3",
      "display_name": "Python 3"
    },
    "language_info": {
      "name": "python"
    }
  },
  "cells": [
    {
      "cell_type": "markdown",
      "source": [
        "# Описание датасета"
      ],
      "metadata": {
        "id": "w-C96kEu0gzI"
      }
    },
    {
      "cell_type": "markdown",
      "source": [
        "В файле содержатся следующие переменные:\n",
        "*   ID - уникальный идентификатор для каждого испытуемого\n",
        "*   Age - возраст испытуемого\n",
        "*   Gender - пол: мужчина или женщина\n",
        "*   Bedtime - время, когда испытуемый ложится спать каждую ночь\n",
        "*   Wakeup time - время пробуждения испытуемого каждое утро\n",
        "*   Sleep duration - общее количество времени, в течение которого испытуемый спал (в часах)\n",
        "*   Sleep efficiency - мера доли времени, проведенного в постели во сне\n",
        "\n",
        "*   REM sleep percentage - процент от общего времени сна, проведенного в фазе быстрого сна\n",
        "*   Deep sleep percentage - процент от общего времени сна, проведенного в глубоком сне\n",
        "*   Light sleep percentage - процент общего времени сна, проведенного в легком сне\n",
        "*   Awakenings - сколько раз испытуемый просыпался ночью\n",
        "*   Caffeine consumption - количество кофеина, выпитого за 24 часа до сна (в мг)\n",
        "*   Alcohol consumption - количество алкоголя, выпитого за 24 часа до сна (в унциях)\n",
        "*   Smoking status - курит ли испытуемый: Yes/No\n",
        "*   Exercise frequency - сколько раз испытуемый тренируется каждую неделю"
      ],
      "metadata": {
        "id": "cL_oi-PQ0TvR"
      }
    },
    {
      "cell_type": "code",
      "execution_count": 1,
      "metadata": {
        "id": "rQPbfkSHk4RB",
        "colab": {
          "base_uri": "https://localhost:8080/",
          "height": 787
        },
        "outputId": "9c281817-b840-4ec1-b80c-fa2228f6be5d"
      },
      "outputs": [
        {
          "output_type": "display_data",
          "data": {
            "text/plain": [
              "    Age  Gender              Bedtime          Wakeup time  Sleep duration  \\\n",
              "ID                                                                          \n",
              "1    65  Female  2021-03-06 01:00:00  2021-03-06 07:00:00             6.0   \n",
              "2    69    Male  2021-12-05 02:00:00  2021-12-05 09:00:00             7.0   \n",
              "3    40  Female  2021-05-25 21:30:00  2021-05-25 05:30:00             8.0   \n",
              "4    40  Female  2021-11-03 02:30:00  2021-11-03 08:30:00             6.0   \n",
              "5    57    Male  2021-03-13 01:00:00  2021-03-13 09:00:00             8.0   \n",
              "\n",
              "    Sleep efficiency  REM sleep percentage  Deep sleep percentage  \\\n",
              "ID                                                                  \n",
              "1               0.88                    18                     70   \n",
              "2               0.66                    24                     28   \n",
              "3               0.89                    20                     70   \n",
              "4               0.51                    28                     25   \n",
              "5               0.76                    27                     55   \n",
              "\n",
              "    Light sleep percentage  Awakenings  Caffeine consumption  \\\n",
              "ID                                                             \n",
              "1                       10         0.0                   0.0   \n",
              "2                       53         3.0                   0.0   \n",
              "3                       10         1.0                   0.0   \n",
              "4                       52         3.0                  50.0   \n",
              "5                       18         3.0                   0.0   \n",
              "\n",
              "    Alcohol consumption Smoking status  Exercise frequency  \n",
              "ID                                                          \n",
              "1                   0.0            Yes                 3.0  \n",
              "2                   3.0            Yes                 3.0  \n",
              "3                   0.0             No                 3.0  \n",
              "4                   5.0            Yes                 1.0  \n",
              "5                   3.0             No                 3.0  "
            ],
            "text/html": [
              "\n",
              "  <div id=\"df-5b540a8c-2cd5-4d4d-8f6a-d4864a7d61ab\">\n",
              "    <div class=\"colab-df-container\">\n",
              "      <div>\n",
              "<style scoped>\n",
              "    .dataframe tbody tr th:only-of-type {\n",
              "        vertical-align: middle;\n",
              "    }\n",
              "\n",
              "    .dataframe tbody tr th {\n",
              "        vertical-align: top;\n",
              "    }\n",
              "\n",
              "    .dataframe thead th {\n",
              "        text-align: right;\n",
              "    }\n",
              "</style>\n",
              "<table border=\"1\" class=\"dataframe\">\n",
              "  <thead>\n",
              "    <tr style=\"text-align: right;\">\n",
              "      <th></th>\n",
              "      <th>Age</th>\n",
              "      <th>Gender</th>\n",
              "      <th>Bedtime</th>\n",
              "      <th>Wakeup time</th>\n",
              "      <th>Sleep duration</th>\n",
              "      <th>Sleep efficiency</th>\n",
              "      <th>REM sleep percentage</th>\n",
              "      <th>Deep sleep percentage</th>\n",
              "      <th>Light sleep percentage</th>\n",
              "      <th>Awakenings</th>\n",
              "      <th>Caffeine consumption</th>\n",
              "      <th>Alcohol consumption</th>\n",
              "      <th>Smoking status</th>\n",
              "      <th>Exercise frequency</th>\n",
              "    </tr>\n",
              "    <tr>\n",
              "      <th>ID</th>\n",
              "      <th></th>\n",
              "      <th></th>\n",
              "      <th></th>\n",
              "      <th></th>\n",
              "      <th></th>\n",
              "      <th></th>\n",
              "      <th></th>\n",
              "      <th></th>\n",
              "      <th></th>\n",
              "      <th></th>\n",
              "      <th></th>\n",
              "      <th></th>\n",
              "      <th></th>\n",
              "      <th></th>\n",
              "    </tr>\n",
              "  </thead>\n",
              "  <tbody>\n",
              "    <tr>\n",
              "      <th>1</th>\n",
              "      <td>65</td>\n",
              "      <td>Female</td>\n",
              "      <td>2021-03-06 01:00:00</td>\n",
              "      <td>2021-03-06 07:00:00</td>\n",
              "      <td>6.0</td>\n",
              "      <td>0.88</td>\n",
              "      <td>18</td>\n",
              "      <td>70</td>\n",
              "      <td>10</td>\n",
              "      <td>0.0</td>\n",
              "      <td>0.0</td>\n",
              "      <td>0.0</td>\n",
              "      <td>Yes</td>\n",
              "      <td>3.0</td>\n",
              "    </tr>\n",
              "    <tr>\n",
              "      <th>2</th>\n",
              "      <td>69</td>\n",
              "      <td>Male</td>\n",
              "      <td>2021-12-05 02:00:00</td>\n",
              "      <td>2021-12-05 09:00:00</td>\n",
              "      <td>7.0</td>\n",
              "      <td>0.66</td>\n",
              "      <td>24</td>\n",
              "      <td>28</td>\n",
              "      <td>53</td>\n",
              "      <td>3.0</td>\n",
              "      <td>0.0</td>\n",
              "      <td>3.0</td>\n",
              "      <td>Yes</td>\n",
              "      <td>3.0</td>\n",
              "    </tr>\n",
              "    <tr>\n",
              "      <th>3</th>\n",
              "      <td>40</td>\n",
              "      <td>Female</td>\n",
              "      <td>2021-05-25 21:30:00</td>\n",
              "      <td>2021-05-25 05:30:00</td>\n",
              "      <td>8.0</td>\n",
              "      <td>0.89</td>\n",
              "      <td>20</td>\n",
              "      <td>70</td>\n",
              "      <td>10</td>\n",
              "      <td>1.0</td>\n",
              "      <td>0.0</td>\n",
              "      <td>0.0</td>\n",
              "      <td>No</td>\n",
              "      <td>3.0</td>\n",
              "    </tr>\n",
              "    <tr>\n",
              "      <th>4</th>\n",
              "      <td>40</td>\n",
              "      <td>Female</td>\n",
              "      <td>2021-11-03 02:30:00</td>\n",
              "      <td>2021-11-03 08:30:00</td>\n",
              "      <td>6.0</td>\n",
              "      <td>0.51</td>\n",
              "      <td>28</td>\n",
              "      <td>25</td>\n",
              "      <td>52</td>\n",
              "      <td>3.0</td>\n",
              "      <td>50.0</td>\n",
              "      <td>5.0</td>\n",
              "      <td>Yes</td>\n",
              "      <td>1.0</td>\n",
              "    </tr>\n",
              "    <tr>\n",
              "      <th>5</th>\n",
              "      <td>57</td>\n",
              "      <td>Male</td>\n",
              "      <td>2021-03-13 01:00:00</td>\n",
              "      <td>2021-03-13 09:00:00</td>\n",
              "      <td>8.0</td>\n",
              "      <td>0.76</td>\n",
              "      <td>27</td>\n",
              "      <td>55</td>\n",
              "      <td>18</td>\n",
              "      <td>3.0</td>\n",
              "      <td>0.0</td>\n",
              "      <td>3.0</td>\n",
              "      <td>No</td>\n",
              "      <td>3.0</td>\n",
              "    </tr>\n",
              "  </tbody>\n",
              "</table>\n",
              "</div>\n",
              "      <button class=\"colab-df-convert\" onclick=\"convertToInteractive('df-5b540a8c-2cd5-4d4d-8f6a-d4864a7d61ab')\"\n",
              "              title=\"Convert this dataframe to an interactive table.\"\n",
              "              style=\"display:none;\">\n",
              "        \n",
              "  <svg xmlns=\"http://www.w3.org/2000/svg\" height=\"24px\"viewBox=\"0 0 24 24\"\n",
              "       width=\"24px\">\n",
              "    <path d=\"M0 0h24v24H0V0z\" fill=\"none\"/>\n",
              "    <path d=\"M18.56 5.44l.94 2.06.94-2.06 2.06-.94-2.06-.94-.94-2.06-.94 2.06-2.06.94zm-11 1L8.5 8.5l.94-2.06 2.06-.94-2.06-.94L8.5 2.5l-.94 2.06-2.06.94zm10 10l.94 2.06.94-2.06 2.06-.94-2.06-.94-.94-2.06-.94 2.06-2.06.94z\"/><path d=\"M17.41 7.96l-1.37-1.37c-.4-.4-.92-.59-1.43-.59-.52 0-1.04.2-1.43.59L10.3 9.45l-7.72 7.72c-.78.78-.78 2.05 0 2.83L4 21.41c.39.39.9.59 1.41.59.51 0 1.02-.2 1.41-.59l7.78-7.78 2.81-2.81c.8-.78.8-2.07 0-2.86zM5.41 20L4 18.59l7.72-7.72 1.47 1.35L5.41 20z\"/>\n",
              "  </svg>\n",
              "      </button>\n",
              "      \n",
              "  <style>\n",
              "    .colab-df-container {\n",
              "      display:flex;\n",
              "      flex-wrap:wrap;\n",
              "      gap: 12px;\n",
              "    }\n",
              "\n",
              "    .colab-df-convert {\n",
              "      background-color: #E8F0FE;\n",
              "      border: none;\n",
              "      border-radius: 50%;\n",
              "      cursor: pointer;\n",
              "      display: none;\n",
              "      fill: #1967D2;\n",
              "      height: 32px;\n",
              "      padding: 0 0 0 0;\n",
              "      width: 32px;\n",
              "    }\n",
              "\n",
              "    .colab-df-convert:hover {\n",
              "      background-color: #E2EBFA;\n",
              "      box-shadow: 0px 1px 2px rgba(60, 64, 67, 0.3), 0px 1px 3px 1px rgba(60, 64, 67, 0.15);\n",
              "      fill: #174EA6;\n",
              "    }\n",
              "\n",
              "    [theme=dark] .colab-df-convert {\n",
              "      background-color: #3B4455;\n",
              "      fill: #D2E3FC;\n",
              "    }\n",
              "\n",
              "    [theme=dark] .colab-df-convert:hover {\n",
              "      background-color: #434B5C;\n",
              "      box-shadow: 0px 1px 3px 1px rgba(0, 0, 0, 0.15);\n",
              "      filter: drop-shadow(0px 1px 2px rgba(0, 0, 0, 0.3));\n",
              "      fill: #FFFFFF;\n",
              "    }\n",
              "  </style>\n",
              "\n",
              "      <script>\n",
              "        const buttonEl =\n",
              "          document.querySelector('#df-5b540a8c-2cd5-4d4d-8f6a-d4864a7d61ab button.colab-df-convert');\n",
              "        buttonEl.style.display =\n",
              "          google.colab.kernel.accessAllowed ? 'block' : 'none';\n",
              "\n",
              "        async function convertToInteractive(key) {\n",
              "          const element = document.querySelector('#df-5b540a8c-2cd5-4d4d-8f6a-d4864a7d61ab');\n",
              "          const dataTable =\n",
              "            await google.colab.kernel.invokeFunction('convertToInteractive',\n",
              "                                                     [key], {});\n",
              "          if (!dataTable) return;\n",
              "\n",
              "          const docLinkHtml = 'Like what you see? Visit the ' +\n",
              "            '<a target=\"_blank\" href=https://colab.research.google.com/notebooks/data_table.ipynb>data table notebook</a>'\n",
              "            + ' to learn more about interactive tables.';\n",
              "          element.innerHTML = '';\n",
              "          dataTable['output_type'] = 'display_data';\n",
              "          await google.colab.output.renderOutput(dataTable, element);\n",
              "          const docLink = document.createElement('div');\n",
              "          docLink.innerHTML = docLinkHtml;\n",
              "          element.appendChild(docLink);\n",
              "        }\n",
              "      </script>\n",
              "    </div>\n",
              "  </div>\n",
              "  "
            ]
          },
          "metadata": {}
        },
        {
          "output_type": "display_data",
          "data": {
            "text/plain": [
              "(452, 14)"
            ]
          },
          "metadata": {}
        },
        {
          "output_type": "stream",
          "name": "stdout",
          "text": [
            "<class 'pandas.core.frame.DataFrame'>\n",
            "Int64Index: 452 entries, 1 to 452\n",
            "Data columns (total 14 columns):\n",
            " #   Column                  Non-Null Count  Dtype  \n",
            "---  ------                  --------------  -----  \n",
            " 0   Age                     452 non-null    int64  \n",
            " 1   Gender                  452 non-null    object \n",
            " 2   Bedtime                 452 non-null    object \n",
            " 3   Wakeup time             452 non-null    object \n",
            " 4   Sleep duration          452 non-null    float64\n",
            " 5   Sleep efficiency        452 non-null    float64\n",
            " 6   REM sleep percentage    452 non-null    int64  \n",
            " 7   Deep sleep percentage   452 non-null    int64  \n",
            " 8   Light sleep percentage  452 non-null    int64  \n",
            " 9   Awakenings              432 non-null    float64\n",
            " 10  Caffeine consumption    427 non-null    float64\n",
            " 11  Alcohol consumption     436 non-null    float64\n",
            " 12  Smoking status          452 non-null    object \n",
            " 13  Exercise frequency      446 non-null    float64\n",
            "dtypes: float64(6), int64(4), object(4)\n",
            "memory usage: 53.0+ KB\n"
          ]
        }
      ],
      "source": [
        "import pandas as pd\n",
        "df = pd.read_csv('/content/drive/MyDrive/Colab Notebooks/Sleep_Efficiency.csv', index_col=0)\n",
        "display(df.head())\n",
        "display(df.shape)\n",
        "df.info()"
      ]
    },
    {
      "cell_type": "markdown",
      "source": [
        "Датасет содержит 452 строки и 15 столбцов (вместе с id)\n",
        "\n",
        "Типы перменных:\n",
        "* переменные (Age, Bedtime, Wakeup time, Sleep duration, Sleep efficiency, REM sleep percentage, Deep sleep percentage, Light sleep percentage, Awakenings, Caffeine consumption, Alcohol consumption, Exercise frequency) - метрические \n",
        "* переменные (Gender, Smoking status) - категориальные (бинарные)\n",
        "\n",
        "Полнота данных: \n",
        "* в столбцах (Age, Gender, Bedtime, Wakeup time, Sleep duration, Sleep efficiency, REM sleep percentage, Deep sleep percentage, Light sleep percentage, Smoking status) данные полные \n",
        "* в столбце (Exercise frequency) нет данных в 6 строках\n",
        "* в столбце (Alcohol consumption) нет данных в 16 строках\n",
        "* в столбце (Awakenings) нет данных в 20 строках\n",
        "* в столбце (Caffeine consumption) нет данных в 25 строках\n",
        "\n",
        "\n",
        "Типы колонок в датафрейме: \n",
        "* у 4 колонок (Age, REM sleep percentage time, Deep sleep percentage, Light sleep percentage) тип int64\n",
        "* у 4 колонок (Gender, Bedtime, Wakeup time, Smoking status) тип object\n",
        "* у 6 колонок (Sleep duration, Sleep efficiency, Awakenings, Caffeine consumption, Alcohol consumption, Exercise frequency) тип float64"
      ],
      "metadata": {
        "id": "-d7ZAEV4EKHt"
      }
    },
    {
      "cell_type": "markdown",
      "source": [
        "# Замена типов переменных на более подходящие\n",
        "\n",
        "\n"
      ],
      "metadata": {
        "id": "C3NjzwREL--0"
      }
    },
    {
      "cell_type": "code",
      "source": [
        "display(type(df['Bedtime'][1])) # изначально в столбце Bedtime лежат переменные типа str\n",
        "df['Bedtime'] = pd.to_datetime(df['Bedtime'])\n",
        "df['Wakeup time'] = pd.to_datetime(df['Wakeup time'])\n",
        "display(type(df['Bedtime'][1])) # покажем, что тип переменных действительно изменился \n",
        "df.head()"
      ],
      "metadata": {
        "colab": {
          "base_uri": "https://localhost:8080/",
          "height": 422
        },
        "id": "mk9gnwHHQ5QY",
        "outputId": "b808929c-2ef8-4c32-817c-754f7c2a78bc"
      },
      "execution_count": 2,
      "outputs": [
        {
          "output_type": "display_data",
          "data": {
            "text/plain": [
              "str"
            ]
          },
          "metadata": {}
        },
        {
          "output_type": "display_data",
          "data": {
            "text/plain": [
              "pandas._libs.tslibs.timestamps.Timestamp"
            ]
          },
          "metadata": {}
        },
        {
          "output_type": "execute_result",
          "data": {
            "text/plain": [
              "    Age  Gender             Bedtime         Wakeup time  Sleep duration  \\\n",
              "ID                                                                        \n",
              "1    65  Female 2021-03-06 01:00:00 2021-03-06 07:00:00             6.0   \n",
              "2    69    Male 2021-12-05 02:00:00 2021-12-05 09:00:00             7.0   \n",
              "3    40  Female 2021-05-25 21:30:00 2021-05-25 05:30:00             8.0   \n",
              "4    40  Female 2021-11-03 02:30:00 2021-11-03 08:30:00             6.0   \n",
              "5    57    Male 2021-03-13 01:00:00 2021-03-13 09:00:00             8.0   \n",
              "\n",
              "    Sleep efficiency  REM sleep percentage  Deep sleep percentage  \\\n",
              "ID                                                                  \n",
              "1               0.88                    18                     70   \n",
              "2               0.66                    24                     28   \n",
              "3               0.89                    20                     70   \n",
              "4               0.51                    28                     25   \n",
              "5               0.76                    27                     55   \n",
              "\n",
              "    Light sleep percentage  Awakenings  Caffeine consumption  \\\n",
              "ID                                                             \n",
              "1                       10         0.0                   0.0   \n",
              "2                       53         3.0                   0.0   \n",
              "3                       10         1.0                   0.0   \n",
              "4                       52         3.0                  50.0   \n",
              "5                       18         3.0                   0.0   \n",
              "\n",
              "    Alcohol consumption Smoking status  Exercise frequency  \n",
              "ID                                                          \n",
              "1                   0.0            Yes                 3.0  \n",
              "2                   3.0            Yes                 3.0  \n",
              "3                   0.0             No                 3.0  \n",
              "4                   5.0            Yes                 1.0  \n",
              "5                   3.0             No                 3.0  "
            ],
            "text/html": [
              "\n",
              "  <div id=\"df-d2cf18ee-59ad-440b-8a25-2c0bd2d66ba6\">\n",
              "    <div class=\"colab-df-container\">\n",
              "      <div>\n",
              "<style scoped>\n",
              "    .dataframe tbody tr th:only-of-type {\n",
              "        vertical-align: middle;\n",
              "    }\n",
              "\n",
              "    .dataframe tbody tr th {\n",
              "        vertical-align: top;\n",
              "    }\n",
              "\n",
              "    .dataframe thead th {\n",
              "        text-align: right;\n",
              "    }\n",
              "</style>\n",
              "<table border=\"1\" class=\"dataframe\">\n",
              "  <thead>\n",
              "    <tr style=\"text-align: right;\">\n",
              "      <th></th>\n",
              "      <th>Age</th>\n",
              "      <th>Gender</th>\n",
              "      <th>Bedtime</th>\n",
              "      <th>Wakeup time</th>\n",
              "      <th>Sleep duration</th>\n",
              "      <th>Sleep efficiency</th>\n",
              "      <th>REM sleep percentage</th>\n",
              "      <th>Deep sleep percentage</th>\n",
              "      <th>Light sleep percentage</th>\n",
              "      <th>Awakenings</th>\n",
              "      <th>Caffeine consumption</th>\n",
              "      <th>Alcohol consumption</th>\n",
              "      <th>Smoking status</th>\n",
              "      <th>Exercise frequency</th>\n",
              "    </tr>\n",
              "    <tr>\n",
              "      <th>ID</th>\n",
              "      <th></th>\n",
              "      <th></th>\n",
              "      <th></th>\n",
              "      <th></th>\n",
              "      <th></th>\n",
              "      <th></th>\n",
              "      <th></th>\n",
              "      <th></th>\n",
              "      <th></th>\n",
              "      <th></th>\n",
              "      <th></th>\n",
              "      <th></th>\n",
              "      <th></th>\n",
              "      <th></th>\n",
              "    </tr>\n",
              "  </thead>\n",
              "  <tbody>\n",
              "    <tr>\n",
              "      <th>1</th>\n",
              "      <td>65</td>\n",
              "      <td>Female</td>\n",
              "      <td>2021-03-06 01:00:00</td>\n",
              "      <td>2021-03-06 07:00:00</td>\n",
              "      <td>6.0</td>\n",
              "      <td>0.88</td>\n",
              "      <td>18</td>\n",
              "      <td>70</td>\n",
              "      <td>10</td>\n",
              "      <td>0.0</td>\n",
              "      <td>0.0</td>\n",
              "      <td>0.0</td>\n",
              "      <td>Yes</td>\n",
              "      <td>3.0</td>\n",
              "    </tr>\n",
              "    <tr>\n",
              "      <th>2</th>\n",
              "      <td>69</td>\n",
              "      <td>Male</td>\n",
              "      <td>2021-12-05 02:00:00</td>\n",
              "      <td>2021-12-05 09:00:00</td>\n",
              "      <td>7.0</td>\n",
              "      <td>0.66</td>\n",
              "      <td>24</td>\n",
              "      <td>28</td>\n",
              "      <td>53</td>\n",
              "      <td>3.0</td>\n",
              "      <td>0.0</td>\n",
              "      <td>3.0</td>\n",
              "      <td>Yes</td>\n",
              "      <td>3.0</td>\n",
              "    </tr>\n",
              "    <tr>\n",
              "      <th>3</th>\n",
              "      <td>40</td>\n",
              "      <td>Female</td>\n",
              "      <td>2021-05-25 21:30:00</td>\n",
              "      <td>2021-05-25 05:30:00</td>\n",
              "      <td>8.0</td>\n",
              "      <td>0.89</td>\n",
              "      <td>20</td>\n",
              "      <td>70</td>\n",
              "      <td>10</td>\n",
              "      <td>1.0</td>\n",
              "      <td>0.0</td>\n",
              "      <td>0.0</td>\n",
              "      <td>No</td>\n",
              "      <td>3.0</td>\n",
              "    </tr>\n",
              "    <tr>\n",
              "      <th>4</th>\n",
              "      <td>40</td>\n",
              "      <td>Female</td>\n",
              "      <td>2021-11-03 02:30:00</td>\n",
              "      <td>2021-11-03 08:30:00</td>\n",
              "      <td>6.0</td>\n",
              "      <td>0.51</td>\n",
              "      <td>28</td>\n",
              "      <td>25</td>\n",
              "      <td>52</td>\n",
              "      <td>3.0</td>\n",
              "      <td>50.0</td>\n",
              "      <td>5.0</td>\n",
              "      <td>Yes</td>\n",
              "      <td>1.0</td>\n",
              "    </tr>\n",
              "    <tr>\n",
              "      <th>5</th>\n",
              "      <td>57</td>\n",
              "      <td>Male</td>\n",
              "      <td>2021-03-13 01:00:00</td>\n",
              "      <td>2021-03-13 09:00:00</td>\n",
              "      <td>8.0</td>\n",
              "      <td>0.76</td>\n",
              "      <td>27</td>\n",
              "      <td>55</td>\n",
              "      <td>18</td>\n",
              "      <td>3.0</td>\n",
              "      <td>0.0</td>\n",
              "      <td>3.0</td>\n",
              "      <td>No</td>\n",
              "      <td>3.0</td>\n",
              "    </tr>\n",
              "  </tbody>\n",
              "</table>\n",
              "</div>\n",
              "      <button class=\"colab-df-convert\" onclick=\"convertToInteractive('df-d2cf18ee-59ad-440b-8a25-2c0bd2d66ba6')\"\n",
              "              title=\"Convert this dataframe to an interactive table.\"\n",
              "              style=\"display:none;\">\n",
              "        \n",
              "  <svg xmlns=\"http://www.w3.org/2000/svg\" height=\"24px\"viewBox=\"0 0 24 24\"\n",
              "       width=\"24px\">\n",
              "    <path d=\"M0 0h24v24H0V0z\" fill=\"none\"/>\n",
              "    <path d=\"M18.56 5.44l.94 2.06.94-2.06 2.06-.94-2.06-.94-.94-2.06-.94 2.06-2.06.94zm-11 1L8.5 8.5l.94-2.06 2.06-.94-2.06-.94L8.5 2.5l-.94 2.06-2.06.94zm10 10l.94 2.06.94-2.06 2.06-.94-2.06-.94-.94-2.06-.94 2.06-2.06.94z\"/><path d=\"M17.41 7.96l-1.37-1.37c-.4-.4-.92-.59-1.43-.59-.52 0-1.04.2-1.43.59L10.3 9.45l-7.72 7.72c-.78.78-.78 2.05 0 2.83L4 21.41c.39.39.9.59 1.41.59.51 0 1.02-.2 1.41-.59l7.78-7.78 2.81-2.81c.8-.78.8-2.07 0-2.86zM5.41 20L4 18.59l7.72-7.72 1.47 1.35L5.41 20z\"/>\n",
              "  </svg>\n",
              "      </button>\n",
              "      \n",
              "  <style>\n",
              "    .colab-df-container {\n",
              "      display:flex;\n",
              "      flex-wrap:wrap;\n",
              "      gap: 12px;\n",
              "    }\n",
              "\n",
              "    .colab-df-convert {\n",
              "      background-color: #E8F0FE;\n",
              "      border: none;\n",
              "      border-radius: 50%;\n",
              "      cursor: pointer;\n",
              "      display: none;\n",
              "      fill: #1967D2;\n",
              "      height: 32px;\n",
              "      padding: 0 0 0 0;\n",
              "      width: 32px;\n",
              "    }\n",
              "\n",
              "    .colab-df-convert:hover {\n",
              "      background-color: #E2EBFA;\n",
              "      box-shadow: 0px 1px 2px rgba(60, 64, 67, 0.3), 0px 1px 3px 1px rgba(60, 64, 67, 0.15);\n",
              "      fill: #174EA6;\n",
              "    }\n",
              "\n",
              "    [theme=dark] .colab-df-convert {\n",
              "      background-color: #3B4455;\n",
              "      fill: #D2E3FC;\n",
              "    }\n",
              "\n",
              "    [theme=dark] .colab-df-convert:hover {\n",
              "      background-color: #434B5C;\n",
              "      box-shadow: 0px 1px 3px 1px rgba(0, 0, 0, 0.15);\n",
              "      filter: drop-shadow(0px 1px 2px rgba(0, 0, 0, 0.3));\n",
              "      fill: #FFFFFF;\n",
              "    }\n",
              "  </style>\n",
              "\n",
              "      <script>\n",
              "        const buttonEl =\n",
              "          document.querySelector('#df-d2cf18ee-59ad-440b-8a25-2c0bd2d66ba6 button.colab-df-convert');\n",
              "        buttonEl.style.display =\n",
              "          google.colab.kernel.accessAllowed ? 'block' : 'none';\n",
              "\n",
              "        async function convertToInteractive(key) {\n",
              "          const element = document.querySelector('#df-d2cf18ee-59ad-440b-8a25-2c0bd2d66ba6');\n",
              "          const dataTable =\n",
              "            await google.colab.kernel.invokeFunction('convertToInteractive',\n",
              "                                                     [key], {});\n",
              "          if (!dataTable) return;\n",
              "\n",
              "          const docLinkHtml = 'Like what you see? Visit the ' +\n",
              "            '<a target=\"_blank\" href=https://colab.research.google.com/notebooks/data_table.ipynb>data table notebook</a>'\n",
              "            + ' to learn more about interactive tables.';\n",
              "          element.innerHTML = '';\n",
              "          dataTable['output_type'] = 'display_data';\n",
              "          await google.colab.output.renderOutput(dataTable, element);\n",
              "          const docLink = document.createElement('div');\n",
              "          docLink.innerHTML = docLinkHtml;\n",
              "          element.appendChild(docLink);\n",
              "        }\n",
              "      </script>\n",
              "    </div>\n",
              "  </div>\n",
              "  "
            ]
          },
          "metadata": {},
          "execution_count": 2
        }
      ]
    },
    {
      "cell_type": "markdown",
      "source": [
        "# Добавление новых переменных"
      ],
      "metadata": {
        "id": "O8A24dutTuMg"
      }
    },
    {
      "cell_type": "code",
      "source": [
        "'''\n",
        "Рассчитаем новые столбцы с данными на основе существующих:\n",
        "-  переменная Time in bed without sleep, отражающая меру доли времени, проведенного в постели не во сне\n",
        "-  переменная Deep sleep percentage mean, отражающая средние показатели по переменной Deep sleep percentage для каждого значения переменной Alcohol consumption (нужна в 1 гипотезе)\n",
        "-  переменная Bedtime_hour, в которой будут храниться значения часов, когда человек ложится спать\n",
        "-  переменная Wakeup_time_hour, в которой будут храниться значения часов, когда человек просыпается\n",
        "-  переменная caffeine_consumption_bin содержит лишь 2 значения yes/no - испытуемый употреблял кофеин/не употреблял\n",
        "'''\n",
        "# 1) Time in bed without\n",
        "df['Time in bed without sleep'] = 1 - df['Sleep efficiency']\n",
        "# 2) Deep sleep percentage mean\n",
        "def get_mean_deep_sleep_percentage(x):\n",
        "    return df[df['Alcohol consumption']==x]['Deep sleep percentage'].mean()\n",
        "df['Deep sleep percentage mean'] = df['Alcohol consumption'].apply(get_mean_deep_sleep_percentage)\n",
        "# 3) Bedtime_hour\n",
        "df['Bedtime_hour'] = df['Bedtime'].apply(lambda x: x.hour if x.hour!=None else x)\n",
        "# 4) Wakeup_time_hour\n",
        "df['Wakeup_time_hour'] = df['Wakeup time'].apply(lambda x: x.hour if x.hour!=None else x)\n",
        "# 5) caffeine_consumption_bin\n",
        "df['caffeine_consumption_bin'] = df['Caffeine consumption'].apply(lambda x: 'No' if x==0 else 'Yes')\n",
        "df.head()"
      ],
      "metadata": {
        "colab": {
          "base_uri": "https://localhost:8080/",
          "height": 527
        },
        "id": "rNiOq6NoTvys",
        "outputId": "fa7b1905-5dff-416f-a581-bbadb0a07cae"
      },
      "execution_count": 3,
      "outputs": [
        {
          "output_type": "execute_result",
          "data": {
            "text/plain": [
              "    Age  Gender             Bedtime         Wakeup time  Sleep duration  \\\n",
              "ID                                                                        \n",
              "1    65  Female 2021-03-06 01:00:00 2021-03-06 07:00:00             6.0   \n",
              "2    69    Male 2021-12-05 02:00:00 2021-12-05 09:00:00             7.0   \n",
              "3    40  Female 2021-05-25 21:30:00 2021-05-25 05:30:00             8.0   \n",
              "4    40  Female 2021-11-03 02:30:00 2021-11-03 08:30:00             6.0   \n",
              "5    57    Male 2021-03-13 01:00:00 2021-03-13 09:00:00             8.0   \n",
              "\n",
              "    Sleep efficiency  REM sleep percentage  Deep sleep percentage  \\\n",
              "ID                                                                  \n",
              "1               0.88                    18                     70   \n",
              "2               0.66                    24                     28   \n",
              "3               0.89                    20                     70   \n",
              "4               0.51                    28                     25   \n",
              "5               0.76                    27                     55   \n",
              "\n",
              "    Light sleep percentage  Awakenings  Caffeine consumption  \\\n",
              "ID                                                             \n",
              "1                       10         0.0                   0.0   \n",
              "2                       53         3.0                   0.0   \n",
              "3                       10         1.0                   0.0   \n",
              "4                       52         3.0                  50.0   \n",
              "5                       18         3.0                   0.0   \n",
              "\n",
              "    Alcohol consumption Smoking status  Exercise frequency  \\\n",
              "ID                                                           \n",
              "1                   0.0            Yes                 3.0   \n",
              "2                   3.0            Yes                 3.0   \n",
              "3                   0.0             No                 3.0   \n",
              "4                   5.0            Yes                 1.0   \n",
              "5                   3.0             No                 3.0   \n",
              "\n",
              "    Time in bed without sleep  Deep sleep percentage mean  Bedtime_hour  \\\n",
              "ID                                                                        \n",
              "1                        0.12                   58.716738             1   \n",
              "2                        0.34                   45.460000             2   \n",
              "3                        0.11                   58.716738            21   \n",
              "4                        0.49                   44.062500             2   \n",
              "5                        0.24                   45.460000             1   \n",
              "\n",
              "    Wakeup_time_hour caffeine_consumption_bin  \n",
              "ID                                             \n",
              "1                  7                       No  \n",
              "2                  9                       No  \n",
              "3                  5                       No  \n",
              "4                  8                      Yes  \n",
              "5                  9                       No  "
            ],
            "text/html": [
              "\n",
              "  <div id=\"df-30edb409-5a87-43e7-8cb4-8fa0c32c3600\">\n",
              "    <div class=\"colab-df-container\">\n",
              "      <div>\n",
              "<style scoped>\n",
              "    .dataframe tbody tr th:only-of-type {\n",
              "        vertical-align: middle;\n",
              "    }\n",
              "\n",
              "    .dataframe tbody tr th {\n",
              "        vertical-align: top;\n",
              "    }\n",
              "\n",
              "    .dataframe thead th {\n",
              "        text-align: right;\n",
              "    }\n",
              "</style>\n",
              "<table border=\"1\" class=\"dataframe\">\n",
              "  <thead>\n",
              "    <tr style=\"text-align: right;\">\n",
              "      <th></th>\n",
              "      <th>Age</th>\n",
              "      <th>Gender</th>\n",
              "      <th>Bedtime</th>\n",
              "      <th>Wakeup time</th>\n",
              "      <th>Sleep duration</th>\n",
              "      <th>Sleep efficiency</th>\n",
              "      <th>REM sleep percentage</th>\n",
              "      <th>Deep sleep percentage</th>\n",
              "      <th>Light sleep percentage</th>\n",
              "      <th>Awakenings</th>\n",
              "      <th>Caffeine consumption</th>\n",
              "      <th>Alcohol consumption</th>\n",
              "      <th>Smoking status</th>\n",
              "      <th>Exercise frequency</th>\n",
              "      <th>Time in bed without sleep</th>\n",
              "      <th>Deep sleep percentage mean</th>\n",
              "      <th>Bedtime_hour</th>\n",
              "      <th>Wakeup_time_hour</th>\n",
              "      <th>caffeine_consumption_bin</th>\n",
              "    </tr>\n",
              "    <tr>\n",
              "      <th>ID</th>\n",
              "      <th></th>\n",
              "      <th></th>\n",
              "      <th></th>\n",
              "      <th></th>\n",
              "      <th></th>\n",
              "      <th></th>\n",
              "      <th></th>\n",
              "      <th></th>\n",
              "      <th></th>\n",
              "      <th></th>\n",
              "      <th></th>\n",
              "      <th></th>\n",
              "      <th></th>\n",
              "      <th></th>\n",
              "      <th></th>\n",
              "      <th></th>\n",
              "      <th></th>\n",
              "      <th></th>\n",
              "      <th></th>\n",
              "    </tr>\n",
              "  </thead>\n",
              "  <tbody>\n",
              "    <tr>\n",
              "      <th>1</th>\n",
              "      <td>65</td>\n",
              "      <td>Female</td>\n",
              "      <td>2021-03-06 01:00:00</td>\n",
              "      <td>2021-03-06 07:00:00</td>\n",
              "      <td>6.0</td>\n",
              "      <td>0.88</td>\n",
              "      <td>18</td>\n",
              "      <td>70</td>\n",
              "      <td>10</td>\n",
              "      <td>0.0</td>\n",
              "      <td>0.0</td>\n",
              "      <td>0.0</td>\n",
              "      <td>Yes</td>\n",
              "      <td>3.0</td>\n",
              "      <td>0.12</td>\n",
              "      <td>58.716738</td>\n",
              "      <td>1</td>\n",
              "      <td>7</td>\n",
              "      <td>No</td>\n",
              "    </tr>\n",
              "    <tr>\n",
              "      <th>2</th>\n",
              "      <td>69</td>\n",
              "      <td>Male</td>\n",
              "      <td>2021-12-05 02:00:00</td>\n",
              "      <td>2021-12-05 09:00:00</td>\n",
              "      <td>7.0</td>\n",
              "      <td>0.66</td>\n",
              "      <td>24</td>\n",
              "      <td>28</td>\n",
              "      <td>53</td>\n",
              "      <td>3.0</td>\n",
              "      <td>0.0</td>\n",
              "      <td>3.0</td>\n",
              "      <td>Yes</td>\n",
              "      <td>3.0</td>\n",
              "      <td>0.34</td>\n",
              "      <td>45.460000</td>\n",
              "      <td>2</td>\n",
              "      <td>9</td>\n",
              "      <td>No</td>\n",
              "    </tr>\n",
              "    <tr>\n",
              "      <th>3</th>\n",
              "      <td>40</td>\n",
              "      <td>Female</td>\n",
              "      <td>2021-05-25 21:30:00</td>\n",
              "      <td>2021-05-25 05:30:00</td>\n",
              "      <td>8.0</td>\n",
              "      <td>0.89</td>\n",
              "      <td>20</td>\n",
              "      <td>70</td>\n",
              "      <td>10</td>\n",
              "      <td>1.0</td>\n",
              "      <td>0.0</td>\n",
              "      <td>0.0</td>\n",
              "      <td>No</td>\n",
              "      <td>3.0</td>\n",
              "      <td>0.11</td>\n",
              "      <td>58.716738</td>\n",
              "      <td>21</td>\n",
              "      <td>5</td>\n",
              "      <td>No</td>\n",
              "    </tr>\n",
              "    <tr>\n",
              "      <th>4</th>\n",
              "      <td>40</td>\n",
              "      <td>Female</td>\n",
              "      <td>2021-11-03 02:30:00</td>\n",
              "      <td>2021-11-03 08:30:00</td>\n",
              "      <td>6.0</td>\n",
              "      <td>0.51</td>\n",
              "      <td>28</td>\n",
              "      <td>25</td>\n",
              "      <td>52</td>\n",
              "      <td>3.0</td>\n",
              "      <td>50.0</td>\n",
              "      <td>5.0</td>\n",
              "      <td>Yes</td>\n",
              "      <td>1.0</td>\n",
              "      <td>0.49</td>\n",
              "      <td>44.062500</td>\n",
              "      <td>2</td>\n",
              "      <td>8</td>\n",
              "      <td>Yes</td>\n",
              "    </tr>\n",
              "    <tr>\n",
              "      <th>5</th>\n",
              "      <td>57</td>\n",
              "      <td>Male</td>\n",
              "      <td>2021-03-13 01:00:00</td>\n",
              "      <td>2021-03-13 09:00:00</td>\n",
              "      <td>8.0</td>\n",
              "      <td>0.76</td>\n",
              "      <td>27</td>\n",
              "      <td>55</td>\n",
              "      <td>18</td>\n",
              "      <td>3.0</td>\n",
              "      <td>0.0</td>\n",
              "      <td>3.0</td>\n",
              "      <td>No</td>\n",
              "      <td>3.0</td>\n",
              "      <td>0.24</td>\n",
              "      <td>45.460000</td>\n",
              "      <td>1</td>\n",
              "      <td>9</td>\n",
              "      <td>No</td>\n",
              "    </tr>\n",
              "  </tbody>\n",
              "</table>\n",
              "</div>\n",
              "      <button class=\"colab-df-convert\" onclick=\"convertToInteractive('df-30edb409-5a87-43e7-8cb4-8fa0c32c3600')\"\n",
              "              title=\"Convert this dataframe to an interactive table.\"\n",
              "              style=\"display:none;\">\n",
              "        \n",
              "  <svg xmlns=\"http://www.w3.org/2000/svg\" height=\"24px\"viewBox=\"0 0 24 24\"\n",
              "       width=\"24px\">\n",
              "    <path d=\"M0 0h24v24H0V0z\" fill=\"none\"/>\n",
              "    <path d=\"M18.56 5.44l.94 2.06.94-2.06 2.06-.94-2.06-.94-.94-2.06-.94 2.06-2.06.94zm-11 1L8.5 8.5l.94-2.06 2.06-.94-2.06-.94L8.5 2.5l-.94 2.06-2.06.94zm10 10l.94 2.06.94-2.06 2.06-.94-2.06-.94-.94-2.06-.94 2.06-2.06.94z\"/><path d=\"M17.41 7.96l-1.37-1.37c-.4-.4-.92-.59-1.43-.59-.52 0-1.04.2-1.43.59L10.3 9.45l-7.72 7.72c-.78.78-.78 2.05 0 2.83L4 21.41c.39.39.9.59 1.41.59.51 0 1.02-.2 1.41-.59l7.78-7.78 2.81-2.81c.8-.78.8-2.07 0-2.86zM5.41 20L4 18.59l7.72-7.72 1.47 1.35L5.41 20z\"/>\n",
              "  </svg>\n",
              "      </button>\n",
              "      \n",
              "  <style>\n",
              "    .colab-df-container {\n",
              "      display:flex;\n",
              "      flex-wrap:wrap;\n",
              "      gap: 12px;\n",
              "    }\n",
              "\n",
              "    .colab-df-convert {\n",
              "      background-color: #E8F0FE;\n",
              "      border: none;\n",
              "      border-radius: 50%;\n",
              "      cursor: pointer;\n",
              "      display: none;\n",
              "      fill: #1967D2;\n",
              "      height: 32px;\n",
              "      padding: 0 0 0 0;\n",
              "      width: 32px;\n",
              "    }\n",
              "\n",
              "    .colab-df-convert:hover {\n",
              "      background-color: #E2EBFA;\n",
              "      box-shadow: 0px 1px 2px rgba(60, 64, 67, 0.3), 0px 1px 3px 1px rgba(60, 64, 67, 0.15);\n",
              "      fill: #174EA6;\n",
              "    }\n",
              "\n",
              "    [theme=dark] .colab-df-convert {\n",
              "      background-color: #3B4455;\n",
              "      fill: #D2E3FC;\n",
              "    }\n",
              "\n",
              "    [theme=dark] .colab-df-convert:hover {\n",
              "      background-color: #434B5C;\n",
              "      box-shadow: 0px 1px 3px 1px rgba(0, 0, 0, 0.15);\n",
              "      filter: drop-shadow(0px 1px 2px rgba(0, 0, 0, 0.3));\n",
              "      fill: #FFFFFF;\n",
              "    }\n",
              "  </style>\n",
              "\n",
              "      <script>\n",
              "        const buttonEl =\n",
              "          document.querySelector('#df-30edb409-5a87-43e7-8cb4-8fa0c32c3600 button.colab-df-convert');\n",
              "        buttonEl.style.display =\n",
              "          google.colab.kernel.accessAllowed ? 'block' : 'none';\n",
              "\n",
              "        async function convertToInteractive(key) {\n",
              "          const element = document.querySelector('#df-30edb409-5a87-43e7-8cb4-8fa0c32c3600');\n",
              "          const dataTable =\n",
              "            await google.colab.kernel.invokeFunction('convertToInteractive',\n",
              "                                                     [key], {});\n",
              "          if (!dataTable) return;\n",
              "\n",
              "          const docLinkHtml = 'Like what you see? Visit the ' +\n",
              "            '<a target=\"_blank\" href=https://colab.research.google.com/notebooks/data_table.ipynb>data table notebook</a>'\n",
              "            + ' to learn more about interactive tables.';\n",
              "          element.innerHTML = '';\n",
              "          dataTable['output_type'] = 'display_data';\n",
              "          await google.colab.output.renderOutput(dataTable, element);\n",
              "          const docLink = document.createElement('div');\n",
              "          docLink.innerHTML = docLinkHtml;\n",
              "          element.appendChild(docLink);\n",
              "        }\n",
              "      </script>\n",
              "    </div>\n",
              "  </div>\n",
              "  "
            ]
          },
          "metadata": {},
          "execution_count": 3
        }
      ]
    },
    {
      "cell_type": "code",
      "source": [
        "'''\n",
        "Перекодируем переменную Age из метрической в категориальную.\n",
        "Создадим 3 группы: young, adult и old \n",
        "'''\n",
        "\n",
        "def get_age_gr(x):\n",
        "    if x < 21:\n",
        "        return 'young'\n",
        "    elif x >=21 and x<60:\n",
        "        return 'adult'\n",
        "    elif x>=60:\n",
        "        return 'old'\n",
        "    \n",
        "df['Age_groups'] = df['Age'].apply(get_age_gr)\n",
        "df.head()"
      ],
      "metadata": {
        "colab": {
          "base_uri": "https://localhost:8080/",
          "height": 527
        },
        "id": "lfOaCIzRXHWB",
        "outputId": "c2776e26-c2a7-4221-d159-0aaa66436a40"
      },
      "execution_count": 4,
      "outputs": [
        {
          "output_type": "execute_result",
          "data": {
            "text/plain": [
              "    Age  Gender             Bedtime         Wakeup time  Sleep duration  \\\n",
              "ID                                                                        \n",
              "1    65  Female 2021-03-06 01:00:00 2021-03-06 07:00:00             6.0   \n",
              "2    69    Male 2021-12-05 02:00:00 2021-12-05 09:00:00             7.0   \n",
              "3    40  Female 2021-05-25 21:30:00 2021-05-25 05:30:00             8.0   \n",
              "4    40  Female 2021-11-03 02:30:00 2021-11-03 08:30:00             6.0   \n",
              "5    57    Male 2021-03-13 01:00:00 2021-03-13 09:00:00             8.0   \n",
              "\n",
              "    Sleep efficiency  REM sleep percentage  Deep sleep percentage  \\\n",
              "ID                                                                  \n",
              "1               0.88                    18                     70   \n",
              "2               0.66                    24                     28   \n",
              "3               0.89                    20                     70   \n",
              "4               0.51                    28                     25   \n",
              "5               0.76                    27                     55   \n",
              "\n",
              "    Light sleep percentage  Awakenings  Caffeine consumption  \\\n",
              "ID                                                             \n",
              "1                       10         0.0                   0.0   \n",
              "2                       53         3.0                   0.0   \n",
              "3                       10         1.0                   0.0   \n",
              "4                       52         3.0                  50.0   \n",
              "5                       18         3.0                   0.0   \n",
              "\n",
              "    Alcohol consumption Smoking status  Exercise frequency  \\\n",
              "ID                                                           \n",
              "1                   0.0            Yes                 3.0   \n",
              "2                   3.0            Yes                 3.0   \n",
              "3                   0.0             No                 3.0   \n",
              "4                   5.0            Yes                 1.0   \n",
              "5                   3.0             No                 3.0   \n",
              "\n",
              "    Time in bed without sleep  Deep sleep percentage mean  Bedtime_hour  \\\n",
              "ID                                                                        \n",
              "1                        0.12                   58.716738             1   \n",
              "2                        0.34                   45.460000             2   \n",
              "3                        0.11                   58.716738            21   \n",
              "4                        0.49                   44.062500             2   \n",
              "5                        0.24                   45.460000             1   \n",
              "\n",
              "    Wakeup_time_hour caffeine_consumption_bin Age_groups  \n",
              "ID                                                        \n",
              "1                  7                       No        old  \n",
              "2                  9                       No        old  \n",
              "3                  5                       No      adult  \n",
              "4                  8                      Yes      adult  \n",
              "5                  9                       No      adult  "
            ],
            "text/html": [
              "\n",
              "  <div id=\"df-dae4df1f-3a42-409d-999f-3884527f9f61\">\n",
              "    <div class=\"colab-df-container\">\n",
              "      <div>\n",
              "<style scoped>\n",
              "    .dataframe tbody tr th:only-of-type {\n",
              "        vertical-align: middle;\n",
              "    }\n",
              "\n",
              "    .dataframe tbody tr th {\n",
              "        vertical-align: top;\n",
              "    }\n",
              "\n",
              "    .dataframe thead th {\n",
              "        text-align: right;\n",
              "    }\n",
              "</style>\n",
              "<table border=\"1\" class=\"dataframe\">\n",
              "  <thead>\n",
              "    <tr style=\"text-align: right;\">\n",
              "      <th></th>\n",
              "      <th>Age</th>\n",
              "      <th>Gender</th>\n",
              "      <th>Bedtime</th>\n",
              "      <th>Wakeup time</th>\n",
              "      <th>Sleep duration</th>\n",
              "      <th>Sleep efficiency</th>\n",
              "      <th>REM sleep percentage</th>\n",
              "      <th>Deep sleep percentage</th>\n",
              "      <th>Light sleep percentage</th>\n",
              "      <th>Awakenings</th>\n",
              "      <th>Caffeine consumption</th>\n",
              "      <th>Alcohol consumption</th>\n",
              "      <th>Smoking status</th>\n",
              "      <th>Exercise frequency</th>\n",
              "      <th>Time in bed without sleep</th>\n",
              "      <th>Deep sleep percentage mean</th>\n",
              "      <th>Bedtime_hour</th>\n",
              "      <th>Wakeup_time_hour</th>\n",
              "      <th>caffeine_consumption_bin</th>\n",
              "      <th>Age_groups</th>\n",
              "    </tr>\n",
              "    <tr>\n",
              "      <th>ID</th>\n",
              "      <th></th>\n",
              "      <th></th>\n",
              "      <th></th>\n",
              "      <th></th>\n",
              "      <th></th>\n",
              "      <th></th>\n",
              "      <th></th>\n",
              "      <th></th>\n",
              "      <th></th>\n",
              "      <th></th>\n",
              "      <th></th>\n",
              "      <th></th>\n",
              "      <th></th>\n",
              "      <th></th>\n",
              "      <th></th>\n",
              "      <th></th>\n",
              "      <th></th>\n",
              "      <th></th>\n",
              "      <th></th>\n",
              "      <th></th>\n",
              "    </tr>\n",
              "  </thead>\n",
              "  <tbody>\n",
              "    <tr>\n",
              "      <th>1</th>\n",
              "      <td>65</td>\n",
              "      <td>Female</td>\n",
              "      <td>2021-03-06 01:00:00</td>\n",
              "      <td>2021-03-06 07:00:00</td>\n",
              "      <td>6.0</td>\n",
              "      <td>0.88</td>\n",
              "      <td>18</td>\n",
              "      <td>70</td>\n",
              "      <td>10</td>\n",
              "      <td>0.0</td>\n",
              "      <td>0.0</td>\n",
              "      <td>0.0</td>\n",
              "      <td>Yes</td>\n",
              "      <td>3.0</td>\n",
              "      <td>0.12</td>\n",
              "      <td>58.716738</td>\n",
              "      <td>1</td>\n",
              "      <td>7</td>\n",
              "      <td>No</td>\n",
              "      <td>old</td>\n",
              "    </tr>\n",
              "    <tr>\n",
              "      <th>2</th>\n",
              "      <td>69</td>\n",
              "      <td>Male</td>\n",
              "      <td>2021-12-05 02:00:00</td>\n",
              "      <td>2021-12-05 09:00:00</td>\n",
              "      <td>7.0</td>\n",
              "      <td>0.66</td>\n",
              "      <td>24</td>\n",
              "      <td>28</td>\n",
              "      <td>53</td>\n",
              "      <td>3.0</td>\n",
              "      <td>0.0</td>\n",
              "      <td>3.0</td>\n",
              "      <td>Yes</td>\n",
              "      <td>3.0</td>\n",
              "      <td>0.34</td>\n",
              "      <td>45.460000</td>\n",
              "      <td>2</td>\n",
              "      <td>9</td>\n",
              "      <td>No</td>\n",
              "      <td>old</td>\n",
              "    </tr>\n",
              "    <tr>\n",
              "      <th>3</th>\n",
              "      <td>40</td>\n",
              "      <td>Female</td>\n",
              "      <td>2021-05-25 21:30:00</td>\n",
              "      <td>2021-05-25 05:30:00</td>\n",
              "      <td>8.0</td>\n",
              "      <td>0.89</td>\n",
              "      <td>20</td>\n",
              "      <td>70</td>\n",
              "      <td>10</td>\n",
              "      <td>1.0</td>\n",
              "      <td>0.0</td>\n",
              "      <td>0.0</td>\n",
              "      <td>No</td>\n",
              "      <td>3.0</td>\n",
              "      <td>0.11</td>\n",
              "      <td>58.716738</td>\n",
              "      <td>21</td>\n",
              "      <td>5</td>\n",
              "      <td>No</td>\n",
              "      <td>adult</td>\n",
              "    </tr>\n",
              "    <tr>\n",
              "      <th>4</th>\n",
              "      <td>40</td>\n",
              "      <td>Female</td>\n",
              "      <td>2021-11-03 02:30:00</td>\n",
              "      <td>2021-11-03 08:30:00</td>\n",
              "      <td>6.0</td>\n",
              "      <td>0.51</td>\n",
              "      <td>28</td>\n",
              "      <td>25</td>\n",
              "      <td>52</td>\n",
              "      <td>3.0</td>\n",
              "      <td>50.0</td>\n",
              "      <td>5.0</td>\n",
              "      <td>Yes</td>\n",
              "      <td>1.0</td>\n",
              "      <td>0.49</td>\n",
              "      <td>44.062500</td>\n",
              "      <td>2</td>\n",
              "      <td>8</td>\n",
              "      <td>Yes</td>\n",
              "      <td>adult</td>\n",
              "    </tr>\n",
              "    <tr>\n",
              "      <th>5</th>\n",
              "      <td>57</td>\n",
              "      <td>Male</td>\n",
              "      <td>2021-03-13 01:00:00</td>\n",
              "      <td>2021-03-13 09:00:00</td>\n",
              "      <td>8.0</td>\n",
              "      <td>0.76</td>\n",
              "      <td>27</td>\n",
              "      <td>55</td>\n",
              "      <td>18</td>\n",
              "      <td>3.0</td>\n",
              "      <td>0.0</td>\n",
              "      <td>3.0</td>\n",
              "      <td>No</td>\n",
              "      <td>3.0</td>\n",
              "      <td>0.24</td>\n",
              "      <td>45.460000</td>\n",
              "      <td>1</td>\n",
              "      <td>9</td>\n",
              "      <td>No</td>\n",
              "      <td>adult</td>\n",
              "    </tr>\n",
              "  </tbody>\n",
              "</table>\n",
              "</div>\n",
              "      <button class=\"colab-df-convert\" onclick=\"convertToInteractive('df-dae4df1f-3a42-409d-999f-3884527f9f61')\"\n",
              "              title=\"Convert this dataframe to an interactive table.\"\n",
              "              style=\"display:none;\">\n",
              "        \n",
              "  <svg xmlns=\"http://www.w3.org/2000/svg\" height=\"24px\"viewBox=\"0 0 24 24\"\n",
              "       width=\"24px\">\n",
              "    <path d=\"M0 0h24v24H0V0z\" fill=\"none\"/>\n",
              "    <path d=\"M18.56 5.44l.94 2.06.94-2.06 2.06-.94-2.06-.94-.94-2.06-.94 2.06-2.06.94zm-11 1L8.5 8.5l.94-2.06 2.06-.94-2.06-.94L8.5 2.5l-.94 2.06-2.06.94zm10 10l.94 2.06.94-2.06 2.06-.94-2.06-.94-.94-2.06-.94 2.06-2.06.94z\"/><path d=\"M17.41 7.96l-1.37-1.37c-.4-.4-.92-.59-1.43-.59-.52 0-1.04.2-1.43.59L10.3 9.45l-7.72 7.72c-.78.78-.78 2.05 0 2.83L4 21.41c.39.39.9.59 1.41.59.51 0 1.02-.2 1.41-.59l7.78-7.78 2.81-2.81c.8-.78.8-2.07 0-2.86zM5.41 20L4 18.59l7.72-7.72 1.47 1.35L5.41 20z\"/>\n",
              "  </svg>\n",
              "      </button>\n",
              "      \n",
              "  <style>\n",
              "    .colab-df-container {\n",
              "      display:flex;\n",
              "      flex-wrap:wrap;\n",
              "      gap: 12px;\n",
              "    }\n",
              "\n",
              "    .colab-df-convert {\n",
              "      background-color: #E8F0FE;\n",
              "      border: none;\n",
              "      border-radius: 50%;\n",
              "      cursor: pointer;\n",
              "      display: none;\n",
              "      fill: #1967D2;\n",
              "      height: 32px;\n",
              "      padding: 0 0 0 0;\n",
              "      width: 32px;\n",
              "    }\n",
              "\n",
              "    .colab-df-convert:hover {\n",
              "      background-color: #E2EBFA;\n",
              "      box-shadow: 0px 1px 2px rgba(60, 64, 67, 0.3), 0px 1px 3px 1px rgba(60, 64, 67, 0.15);\n",
              "      fill: #174EA6;\n",
              "    }\n",
              "\n",
              "    [theme=dark] .colab-df-convert {\n",
              "      background-color: #3B4455;\n",
              "      fill: #D2E3FC;\n",
              "    }\n",
              "\n",
              "    [theme=dark] .colab-df-convert:hover {\n",
              "      background-color: #434B5C;\n",
              "      box-shadow: 0px 1px 3px 1px rgba(0, 0, 0, 0.15);\n",
              "      filter: drop-shadow(0px 1px 2px rgba(0, 0, 0, 0.3));\n",
              "      fill: #FFFFFF;\n",
              "    }\n",
              "  </style>\n",
              "\n",
              "      <script>\n",
              "        const buttonEl =\n",
              "          document.querySelector('#df-dae4df1f-3a42-409d-999f-3884527f9f61 button.colab-df-convert');\n",
              "        buttonEl.style.display =\n",
              "          google.colab.kernel.accessAllowed ? 'block' : 'none';\n",
              "\n",
              "        async function convertToInteractive(key) {\n",
              "          const element = document.querySelector('#df-dae4df1f-3a42-409d-999f-3884527f9f61');\n",
              "          const dataTable =\n",
              "            await google.colab.kernel.invokeFunction('convertToInteractive',\n",
              "                                                     [key], {});\n",
              "          if (!dataTable) return;\n",
              "\n",
              "          const docLinkHtml = 'Like what you see? Visit the ' +\n",
              "            '<a target=\"_blank\" href=https://colab.research.google.com/notebooks/data_table.ipynb>data table notebook</a>'\n",
              "            + ' to learn more about interactive tables.';\n",
              "          element.innerHTML = '';\n",
              "          dataTable['output_type'] = 'display_data';\n",
              "          await google.colab.output.renderOutput(dataTable, element);\n",
              "          const docLink = document.createElement('div');\n",
              "          docLink.innerHTML = docLinkHtml;\n",
              "          element.appendChild(docLink);\n",
              "        }\n",
              "      </script>\n",
              "    </div>\n",
              "  </div>\n",
              "  "
            ]
          },
          "metadata": {},
          "execution_count": 4
        }
      ]
    },
    {
      "cell_type": "markdown",
      "source": [
        "# Срез и транспонирование"
      ],
      "metadata": {
        "id": "fz518HuvdCz_"
      }
    },
    {
      "cell_type": "code",
      "source": [
        "df[:10].T"
      ],
      "metadata": {
        "colab": {
          "base_uri": "https://localhost:8080/",
          "height": 827
        },
        "id": "-CeipSkEdIiW",
        "outputId": "6e20abd0-445f-49ab-8ed8-e3b89ad540a7"
      },
      "execution_count": 5,
      "outputs": [
        {
          "output_type": "execute_result",
          "data": {
            "text/plain": [
              "ID                                           1                    2   \\\n",
              "Age                                          65                   69   \n",
              "Gender                                   Female                 Male   \n",
              "Bedtime                     2021-03-06 01:00:00  2021-12-05 02:00:00   \n",
              "Wakeup time                 2021-03-06 07:00:00  2021-12-05 09:00:00   \n",
              "Sleep duration                              6.0                  7.0   \n",
              "Sleep efficiency                           0.88                 0.66   \n",
              "REM sleep percentage                         18                   24   \n",
              "Deep sleep percentage                        70                   28   \n",
              "Light sleep percentage                       10                   53   \n",
              "Awakenings                                  0.0                  3.0   \n",
              "Caffeine consumption                        0.0                  0.0   \n",
              "Alcohol consumption                         0.0                  3.0   \n",
              "Smoking status                              Yes                  Yes   \n",
              "Exercise frequency                          3.0                  3.0   \n",
              "Time in bed without sleep                  0.12                 0.34   \n",
              "Deep sleep percentage mean            58.716738                45.46   \n",
              "Bedtime_hour                                  1                    2   \n",
              "Wakeup_time_hour                              7                    9   \n",
              "caffeine_consumption_bin                     No                   No   \n",
              "Age_groups                                  old                  old   \n",
              "\n",
              "ID                                           3                    4   \\\n",
              "Age                                          40                   40   \n",
              "Gender                                   Female               Female   \n",
              "Bedtime                     2021-05-25 21:30:00  2021-11-03 02:30:00   \n",
              "Wakeup time                 2021-05-25 05:30:00  2021-11-03 08:30:00   \n",
              "Sleep duration                              8.0                  6.0   \n",
              "Sleep efficiency                           0.89                 0.51   \n",
              "REM sleep percentage                         20                   28   \n",
              "Deep sleep percentage                        70                   25   \n",
              "Light sleep percentage                       10                   52   \n",
              "Awakenings                                  1.0                  3.0   \n",
              "Caffeine consumption                        0.0                 50.0   \n",
              "Alcohol consumption                         0.0                  5.0   \n",
              "Smoking status                               No                  Yes   \n",
              "Exercise frequency                          3.0                  1.0   \n",
              "Time in bed without sleep                  0.11                 0.49   \n",
              "Deep sleep percentage mean            58.716738              44.0625   \n",
              "Bedtime_hour                                 21                    2   \n",
              "Wakeup_time_hour                              5                    8   \n",
              "caffeine_consumption_bin                     No                  Yes   \n",
              "Age_groups                                adult                adult   \n",
              "\n",
              "ID                                           5                    6   \\\n",
              "Age                                          57                   36   \n",
              "Gender                                     Male               Female   \n",
              "Bedtime                     2021-03-13 01:00:00  2021-07-01 21:00:00   \n",
              "Wakeup time                 2021-03-13 09:00:00  2021-07-01 04:30:00   \n",
              "Sleep duration                              8.0                  7.5   \n",
              "Sleep efficiency                           0.76                  0.9   \n",
              "REM sleep percentage                         27                   28   \n",
              "Deep sleep percentage                        55                   60   \n",
              "Light sleep percentage                       18                   17   \n",
              "Awakenings                                  3.0                  0.0   \n",
              "Caffeine consumption                        0.0                  NaN   \n",
              "Alcohol consumption                         3.0                  0.0   \n",
              "Smoking status                               No                   No   \n",
              "Exercise frequency                          3.0                  1.0   \n",
              "Time in bed without sleep                  0.24                  0.1   \n",
              "Deep sleep percentage mean                45.46            58.716738   \n",
              "Bedtime_hour                                  1                   21   \n",
              "Wakeup_time_hour                              9                    4   \n",
              "caffeine_consumption_bin                     No                  Yes   \n",
              "Age_groups                                adult                adult   \n",
              "\n",
              "ID                                           7                    8   \\\n",
              "Age                                          27                   53   \n",
              "Gender                                   Female                 Male   \n",
              "Bedtime                     2021-07-21 21:00:00  2021-08-16 00:30:00   \n",
              "Wakeup time                 2021-07-21 03:00:00  2021-08-16 10:30:00   \n",
              "Sleep duration                              6.0                 10.0   \n",
              "Sleep efficiency                           0.54                  0.9   \n",
              "REM sleep percentage                         28                   28   \n",
              "Deep sleep percentage                        25                   57   \n",
              "Light sleep percentage                       52                   20   \n",
              "Awakenings                                  2.0                  0.0   \n",
              "Caffeine consumption                       50.0                 50.0   \n",
              "Alcohol consumption                         0.0                  0.0   \n",
              "Smoking status                              Yes                  Yes   \n",
              "Exercise frequency                          1.0                  3.0   \n",
              "Time in bed without sleep                  0.46                  0.1   \n",
              "Deep sleep percentage mean            58.716738            58.716738   \n",
              "Bedtime_hour                                 21                    0   \n",
              "Wakeup_time_hour                              3                   10   \n",
              "caffeine_consumption_bin                    Yes                  Yes   \n",
              "Age_groups                                adult                adult   \n",
              "\n",
              "ID                                           9                    10  \n",
              "Age                                          41                   11  \n",
              "Gender                                   Female               Female  \n",
              "Bedtime                     2021-04-05 02:30:00  2021-09-16 01:00:00  \n",
              "Wakeup time                 2021-04-05 08:30:00  2021-09-16 10:00:00  \n",
              "Sleep duration                              6.0                  9.0  \n",
              "Sleep efficiency                           0.79                 0.55  \n",
              "REM sleep percentage                         28                   18  \n",
              "Deep sleep percentage                        60                   35  \n",
              "Light sleep percentage                       17                   45  \n",
              "Awakenings                                  3.0                  4.0  \n",
              "Caffeine consumption                       50.0                  0.0  \n",
              "Alcohol consumption                         0.0                  3.0  \n",
              "Smoking status                               No                  Yes  \n",
              "Exercise frequency                          1.0                  0.0  \n",
              "Time in bed without sleep                  0.21                 0.45  \n",
              "Deep sleep percentage mean            58.716738                45.46  \n",
              "Bedtime_hour                                  2                    1  \n",
              "Wakeup_time_hour                              8                   10  \n",
              "caffeine_consumption_bin                    Yes                   No  \n",
              "Age_groups                                adult                young  "
            ],
            "text/html": [
              "\n",
              "  <div id=\"df-55d04bc6-870b-4a36-a149-e8f1c9221fae\">\n",
              "    <div class=\"colab-df-container\">\n",
              "      <div>\n",
              "<style scoped>\n",
              "    .dataframe tbody tr th:only-of-type {\n",
              "        vertical-align: middle;\n",
              "    }\n",
              "\n",
              "    .dataframe tbody tr th {\n",
              "        vertical-align: top;\n",
              "    }\n",
              "\n",
              "    .dataframe thead th {\n",
              "        text-align: right;\n",
              "    }\n",
              "</style>\n",
              "<table border=\"1\" class=\"dataframe\">\n",
              "  <thead>\n",
              "    <tr style=\"text-align: right;\">\n",
              "      <th>ID</th>\n",
              "      <th>1</th>\n",
              "      <th>2</th>\n",
              "      <th>3</th>\n",
              "      <th>4</th>\n",
              "      <th>5</th>\n",
              "      <th>6</th>\n",
              "      <th>7</th>\n",
              "      <th>8</th>\n",
              "      <th>9</th>\n",
              "      <th>10</th>\n",
              "    </tr>\n",
              "  </thead>\n",
              "  <tbody>\n",
              "    <tr>\n",
              "      <th>Age</th>\n",
              "      <td>65</td>\n",
              "      <td>69</td>\n",
              "      <td>40</td>\n",
              "      <td>40</td>\n",
              "      <td>57</td>\n",
              "      <td>36</td>\n",
              "      <td>27</td>\n",
              "      <td>53</td>\n",
              "      <td>41</td>\n",
              "      <td>11</td>\n",
              "    </tr>\n",
              "    <tr>\n",
              "      <th>Gender</th>\n",
              "      <td>Female</td>\n",
              "      <td>Male</td>\n",
              "      <td>Female</td>\n",
              "      <td>Female</td>\n",
              "      <td>Male</td>\n",
              "      <td>Female</td>\n",
              "      <td>Female</td>\n",
              "      <td>Male</td>\n",
              "      <td>Female</td>\n",
              "      <td>Female</td>\n",
              "    </tr>\n",
              "    <tr>\n",
              "      <th>Bedtime</th>\n",
              "      <td>2021-03-06 01:00:00</td>\n",
              "      <td>2021-12-05 02:00:00</td>\n",
              "      <td>2021-05-25 21:30:00</td>\n",
              "      <td>2021-11-03 02:30:00</td>\n",
              "      <td>2021-03-13 01:00:00</td>\n",
              "      <td>2021-07-01 21:00:00</td>\n",
              "      <td>2021-07-21 21:00:00</td>\n",
              "      <td>2021-08-16 00:30:00</td>\n",
              "      <td>2021-04-05 02:30:00</td>\n",
              "      <td>2021-09-16 01:00:00</td>\n",
              "    </tr>\n",
              "    <tr>\n",
              "      <th>Wakeup time</th>\n",
              "      <td>2021-03-06 07:00:00</td>\n",
              "      <td>2021-12-05 09:00:00</td>\n",
              "      <td>2021-05-25 05:30:00</td>\n",
              "      <td>2021-11-03 08:30:00</td>\n",
              "      <td>2021-03-13 09:00:00</td>\n",
              "      <td>2021-07-01 04:30:00</td>\n",
              "      <td>2021-07-21 03:00:00</td>\n",
              "      <td>2021-08-16 10:30:00</td>\n",
              "      <td>2021-04-05 08:30:00</td>\n",
              "      <td>2021-09-16 10:00:00</td>\n",
              "    </tr>\n",
              "    <tr>\n",
              "      <th>Sleep duration</th>\n",
              "      <td>6.0</td>\n",
              "      <td>7.0</td>\n",
              "      <td>8.0</td>\n",
              "      <td>6.0</td>\n",
              "      <td>8.0</td>\n",
              "      <td>7.5</td>\n",
              "      <td>6.0</td>\n",
              "      <td>10.0</td>\n",
              "      <td>6.0</td>\n",
              "      <td>9.0</td>\n",
              "    </tr>\n",
              "    <tr>\n",
              "      <th>Sleep efficiency</th>\n",
              "      <td>0.88</td>\n",
              "      <td>0.66</td>\n",
              "      <td>0.89</td>\n",
              "      <td>0.51</td>\n",
              "      <td>0.76</td>\n",
              "      <td>0.9</td>\n",
              "      <td>0.54</td>\n",
              "      <td>0.9</td>\n",
              "      <td>0.79</td>\n",
              "      <td>0.55</td>\n",
              "    </tr>\n",
              "    <tr>\n",
              "      <th>REM sleep percentage</th>\n",
              "      <td>18</td>\n",
              "      <td>24</td>\n",
              "      <td>20</td>\n",
              "      <td>28</td>\n",
              "      <td>27</td>\n",
              "      <td>28</td>\n",
              "      <td>28</td>\n",
              "      <td>28</td>\n",
              "      <td>28</td>\n",
              "      <td>18</td>\n",
              "    </tr>\n",
              "    <tr>\n",
              "      <th>Deep sleep percentage</th>\n",
              "      <td>70</td>\n",
              "      <td>28</td>\n",
              "      <td>70</td>\n",
              "      <td>25</td>\n",
              "      <td>55</td>\n",
              "      <td>60</td>\n",
              "      <td>25</td>\n",
              "      <td>57</td>\n",
              "      <td>60</td>\n",
              "      <td>35</td>\n",
              "    </tr>\n",
              "    <tr>\n",
              "      <th>Light sleep percentage</th>\n",
              "      <td>10</td>\n",
              "      <td>53</td>\n",
              "      <td>10</td>\n",
              "      <td>52</td>\n",
              "      <td>18</td>\n",
              "      <td>17</td>\n",
              "      <td>52</td>\n",
              "      <td>20</td>\n",
              "      <td>17</td>\n",
              "      <td>45</td>\n",
              "    </tr>\n",
              "    <tr>\n",
              "      <th>Awakenings</th>\n",
              "      <td>0.0</td>\n",
              "      <td>3.0</td>\n",
              "      <td>1.0</td>\n",
              "      <td>3.0</td>\n",
              "      <td>3.0</td>\n",
              "      <td>0.0</td>\n",
              "      <td>2.0</td>\n",
              "      <td>0.0</td>\n",
              "      <td>3.0</td>\n",
              "      <td>4.0</td>\n",
              "    </tr>\n",
              "    <tr>\n",
              "      <th>Caffeine consumption</th>\n",
              "      <td>0.0</td>\n",
              "      <td>0.0</td>\n",
              "      <td>0.0</td>\n",
              "      <td>50.0</td>\n",
              "      <td>0.0</td>\n",
              "      <td>NaN</td>\n",
              "      <td>50.0</td>\n",
              "      <td>50.0</td>\n",
              "      <td>50.0</td>\n",
              "      <td>0.0</td>\n",
              "    </tr>\n",
              "    <tr>\n",
              "      <th>Alcohol consumption</th>\n",
              "      <td>0.0</td>\n",
              "      <td>3.0</td>\n",
              "      <td>0.0</td>\n",
              "      <td>5.0</td>\n",
              "      <td>3.0</td>\n",
              "      <td>0.0</td>\n",
              "      <td>0.0</td>\n",
              "      <td>0.0</td>\n",
              "      <td>0.0</td>\n",
              "      <td>3.0</td>\n",
              "    </tr>\n",
              "    <tr>\n",
              "      <th>Smoking status</th>\n",
              "      <td>Yes</td>\n",
              "      <td>Yes</td>\n",
              "      <td>No</td>\n",
              "      <td>Yes</td>\n",
              "      <td>No</td>\n",
              "      <td>No</td>\n",
              "      <td>Yes</td>\n",
              "      <td>Yes</td>\n",
              "      <td>No</td>\n",
              "      <td>Yes</td>\n",
              "    </tr>\n",
              "    <tr>\n",
              "      <th>Exercise frequency</th>\n",
              "      <td>3.0</td>\n",
              "      <td>3.0</td>\n",
              "      <td>3.0</td>\n",
              "      <td>1.0</td>\n",
              "      <td>3.0</td>\n",
              "      <td>1.0</td>\n",
              "      <td>1.0</td>\n",
              "      <td>3.0</td>\n",
              "      <td>1.0</td>\n",
              "      <td>0.0</td>\n",
              "    </tr>\n",
              "    <tr>\n",
              "      <th>Time in bed without sleep</th>\n",
              "      <td>0.12</td>\n",
              "      <td>0.34</td>\n",
              "      <td>0.11</td>\n",
              "      <td>0.49</td>\n",
              "      <td>0.24</td>\n",
              "      <td>0.1</td>\n",
              "      <td>0.46</td>\n",
              "      <td>0.1</td>\n",
              "      <td>0.21</td>\n",
              "      <td>0.45</td>\n",
              "    </tr>\n",
              "    <tr>\n",
              "      <th>Deep sleep percentage mean</th>\n",
              "      <td>58.716738</td>\n",
              "      <td>45.46</td>\n",
              "      <td>58.716738</td>\n",
              "      <td>44.0625</td>\n",
              "      <td>45.46</td>\n",
              "      <td>58.716738</td>\n",
              "      <td>58.716738</td>\n",
              "      <td>58.716738</td>\n",
              "      <td>58.716738</td>\n",
              "      <td>45.46</td>\n",
              "    </tr>\n",
              "    <tr>\n",
              "      <th>Bedtime_hour</th>\n",
              "      <td>1</td>\n",
              "      <td>2</td>\n",
              "      <td>21</td>\n",
              "      <td>2</td>\n",
              "      <td>1</td>\n",
              "      <td>21</td>\n",
              "      <td>21</td>\n",
              "      <td>0</td>\n",
              "      <td>2</td>\n",
              "      <td>1</td>\n",
              "    </tr>\n",
              "    <tr>\n",
              "      <th>Wakeup_time_hour</th>\n",
              "      <td>7</td>\n",
              "      <td>9</td>\n",
              "      <td>5</td>\n",
              "      <td>8</td>\n",
              "      <td>9</td>\n",
              "      <td>4</td>\n",
              "      <td>3</td>\n",
              "      <td>10</td>\n",
              "      <td>8</td>\n",
              "      <td>10</td>\n",
              "    </tr>\n",
              "    <tr>\n",
              "      <th>caffeine_consumption_bin</th>\n",
              "      <td>No</td>\n",
              "      <td>No</td>\n",
              "      <td>No</td>\n",
              "      <td>Yes</td>\n",
              "      <td>No</td>\n",
              "      <td>Yes</td>\n",
              "      <td>Yes</td>\n",
              "      <td>Yes</td>\n",
              "      <td>Yes</td>\n",
              "      <td>No</td>\n",
              "    </tr>\n",
              "    <tr>\n",
              "      <th>Age_groups</th>\n",
              "      <td>old</td>\n",
              "      <td>old</td>\n",
              "      <td>adult</td>\n",
              "      <td>adult</td>\n",
              "      <td>adult</td>\n",
              "      <td>adult</td>\n",
              "      <td>adult</td>\n",
              "      <td>adult</td>\n",
              "      <td>adult</td>\n",
              "      <td>young</td>\n",
              "    </tr>\n",
              "  </tbody>\n",
              "</table>\n",
              "</div>\n",
              "      <button class=\"colab-df-convert\" onclick=\"convertToInteractive('df-55d04bc6-870b-4a36-a149-e8f1c9221fae')\"\n",
              "              title=\"Convert this dataframe to an interactive table.\"\n",
              "              style=\"display:none;\">\n",
              "        \n",
              "  <svg xmlns=\"http://www.w3.org/2000/svg\" height=\"24px\"viewBox=\"0 0 24 24\"\n",
              "       width=\"24px\">\n",
              "    <path d=\"M0 0h24v24H0V0z\" fill=\"none\"/>\n",
              "    <path d=\"M18.56 5.44l.94 2.06.94-2.06 2.06-.94-2.06-.94-.94-2.06-.94 2.06-2.06.94zm-11 1L8.5 8.5l.94-2.06 2.06-.94-2.06-.94L8.5 2.5l-.94 2.06-2.06.94zm10 10l.94 2.06.94-2.06 2.06-.94-2.06-.94-.94-2.06-.94 2.06-2.06.94z\"/><path d=\"M17.41 7.96l-1.37-1.37c-.4-.4-.92-.59-1.43-.59-.52 0-1.04.2-1.43.59L10.3 9.45l-7.72 7.72c-.78.78-.78 2.05 0 2.83L4 21.41c.39.39.9.59 1.41.59.51 0 1.02-.2 1.41-.59l7.78-7.78 2.81-2.81c.8-.78.8-2.07 0-2.86zM5.41 20L4 18.59l7.72-7.72 1.47 1.35L5.41 20z\"/>\n",
              "  </svg>\n",
              "      </button>\n",
              "      \n",
              "  <style>\n",
              "    .colab-df-container {\n",
              "      display:flex;\n",
              "      flex-wrap:wrap;\n",
              "      gap: 12px;\n",
              "    }\n",
              "\n",
              "    .colab-df-convert {\n",
              "      background-color: #E8F0FE;\n",
              "      border: none;\n",
              "      border-radius: 50%;\n",
              "      cursor: pointer;\n",
              "      display: none;\n",
              "      fill: #1967D2;\n",
              "      height: 32px;\n",
              "      padding: 0 0 0 0;\n",
              "      width: 32px;\n",
              "    }\n",
              "\n",
              "    .colab-df-convert:hover {\n",
              "      background-color: #E2EBFA;\n",
              "      box-shadow: 0px 1px 2px rgba(60, 64, 67, 0.3), 0px 1px 3px 1px rgba(60, 64, 67, 0.15);\n",
              "      fill: #174EA6;\n",
              "    }\n",
              "\n",
              "    [theme=dark] .colab-df-convert {\n",
              "      background-color: #3B4455;\n",
              "      fill: #D2E3FC;\n",
              "    }\n",
              "\n",
              "    [theme=dark] .colab-df-convert:hover {\n",
              "      background-color: #434B5C;\n",
              "      box-shadow: 0px 1px 3px 1px rgba(0, 0, 0, 0.15);\n",
              "      filter: drop-shadow(0px 1px 2px rgba(0, 0, 0, 0.3));\n",
              "      fill: #FFFFFF;\n",
              "    }\n",
              "  </style>\n",
              "\n",
              "      <script>\n",
              "        const buttonEl =\n",
              "          document.querySelector('#df-55d04bc6-870b-4a36-a149-e8f1c9221fae button.colab-df-convert');\n",
              "        buttonEl.style.display =\n",
              "          google.colab.kernel.accessAllowed ? 'block' : 'none';\n",
              "\n",
              "        async function convertToInteractive(key) {\n",
              "          const element = document.querySelector('#df-55d04bc6-870b-4a36-a149-e8f1c9221fae');\n",
              "          const dataTable =\n",
              "            await google.colab.kernel.invokeFunction('convertToInteractive',\n",
              "                                                     [key], {});\n",
              "          if (!dataTable) return;\n",
              "\n",
              "          const docLinkHtml = 'Like what you see? Visit the ' +\n",
              "            '<a target=\"_blank\" href=https://colab.research.google.com/notebooks/data_table.ipynb>data table notebook</a>'\n",
              "            + ' to learn more about interactive tables.';\n",
              "          element.innerHTML = '';\n",
              "          dataTable['output_type'] = 'display_data';\n",
              "          await google.colab.output.renderOutput(dataTable, element);\n",
              "          const docLink = document.createElement('div');\n",
              "          docLink.innerHTML = docLinkHtml;\n",
              "          element.appendChild(docLink);\n",
              "        }\n",
              "      </script>\n",
              "    </div>\n",
              "  </div>\n",
              "  "
            ]
          },
          "metadata": {},
          "execution_count": 5
        }
      ]
    },
    {
      "cell_type": "markdown",
      "source": [
        "# Многоуровневая сортировка"
      ],
      "metadata": {
        "id": "C4pe-3u1dZ0z"
      }
    },
    {
      "cell_type": "code",
      "source": [
        "res = df.sort_values(['Age','Sleep duration'], ascending=[True, True])\n",
        "res[['Age','Sleep duration']].head(20)"
      ],
      "metadata": {
        "colab": {
          "base_uri": "https://localhost:8080/",
          "height": 708
        },
        "id": "k0B1j3iZdfgr",
        "outputId": "0987b49e-f4e6-46cb-e94e-54d71323418c"
      },
      "execution_count": 6,
      "outputs": [
        {
          "output_type": "execute_result",
          "data": {
            "text/plain": [
              "     Age  Sleep duration\n",
              "ID                      \n",
              "53     9             8.5\n",
              "212   10             7.0\n",
              "10    11             9.0\n",
              "333   12             9.0\n",
              "220   13             8.0\n",
              "159   14             7.0\n",
              "122   15             8.0\n",
              "54    16             8.5\n",
              "285   17             7.0\n",
              "194   18             7.0\n",
              "55    18             7.5\n",
              "452   18             7.5\n",
              "32    18             8.0\n",
              "235   18             9.0\n",
              "352   19             7.5\n",
              "425   19             8.0\n",
              "124   19             8.5\n",
              "38    20             9.0\n",
              "17    21             7.0\n",
              "391   21             7.5"
            ],
            "text/html": [
              "\n",
              "  <div id=\"df-9b24146f-d821-479e-8ba0-88c524206d01\">\n",
              "    <div class=\"colab-df-container\">\n",
              "      <div>\n",
              "<style scoped>\n",
              "    .dataframe tbody tr th:only-of-type {\n",
              "        vertical-align: middle;\n",
              "    }\n",
              "\n",
              "    .dataframe tbody tr th {\n",
              "        vertical-align: top;\n",
              "    }\n",
              "\n",
              "    .dataframe thead th {\n",
              "        text-align: right;\n",
              "    }\n",
              "</style>\n",
              "<table border=\"1\" class=\"dataframe\">\n",
              "  <thead>\n",
              "    <tr style=\"text-align: right;\">\n",
              "      <th></th>\n",
              "      <th>Age</th>\n",
              "      <th>Sleep duration</th>\n",
              "    </tr>\n",
              "    <tr>\n",
              "      <th>ID</th>\n",
              "      <th></th>\n",
              "      <th></th>\n",
              "    </tr>\n",
              "  </thead>\n",
              "  <tbody>\n",
              "    <tr>\n",
              "      <th>53</th>\n",
              "      <td>9</td>\n",
              "      <td>8.5</td>\n",
              "    </tr>\n",
              "    <tr>\n",
              "      <th>212</th>\n",
              "      <td>10</td>\n",
              "      <td>7.0</td>\n",
              "    </tr>\n",
              "    <tr>\n",
              "      <th>10</th>\n",
              "      <td>11</td>\n",
              "      <td>9.0</td>\n",
              "    </tr>\n",
              "    <tr>\n",
              "      <th>333</th>\n",
              "      <td>12</td>\n",
              "      <td>9.0</td>\n",
              "    </tr>\n",
              "    <tr>\n",
              "      <th>220</th>\n",
              "      <td>13</td>\n",
              "      <td>8.0</td>\n",
              "    </tr>\n",
              "    <tr>\n",
              "      <th>159</th>\n",
              "      <td>14</td>\n",
              "      <td>7.0</td>\n",
              "    </tr>\n",
              "    <tr>\n",
              "      <th>122</th>\n",
              "      <td>15</td>\n",
              "      <td>8.0</td>\n",
              "    </tr>\n",
              "    <tr>\n",
              "      <th>54</th>\n",
              "      <td>16</td>\n",
              "      <td>8.5</td>\n",
              "    </tr>\n",
              "    <tr>\n",
              "      <th>285</th>\n",
              "      <td>17</td>\n",
              "      <td>7.0</td>\n",
              "    </tr>\n",
              "    <tr>\n",
              "      <th>194</th>\n",
              "      <td>18</td>\n",
              "      <td>7.0</td>\n",
              "    </tr>\n",
              "    <tr>\n",
              "      <th>55</th>\n",
              "      <td>18</td>\n",
              "      <td>7.5</td>\n",
              "    </tr>\n",
              "    <tr>\n",
              "      <th>452</th>\n",
              "      <td>18</td>\n",
              "      <td>7.5</td>\n",
              "    </tr>\n",
              "    <tr>\n",
              "      <th>32</th>\n",
              "      <td>18</td>\n",
              "      <td>8.0</td>\n",
              "    </tr>\n",
              "    <tr>\n",
              "      <th>235</th>\n",
              "      <td>18</td>\n",
              "      <td>9.0</td>\n",
              "    </tr>\n",
              "    <tr>\n",
              "      <th>352</th>\n",
              "      <td>19</td>\n",
              "      <td>7.5</td>\n",
              "    </tr>\n",
              "    <tr>\n",
              "      <th>425</th>\n",
              "      <td>19</td>\n",
              "      <td>8.0</td>\n",
              "    </tr>\n",
              "    <tr>\n",
              "      <th>124</th>\n",
              "      <td>19</td>\n",
              "      <td>8.5</td>\n",
              "    </tr>\n",
              "    <tr>\n",
              "      <th>38</th>\n",
              "      <td>20</td>\n",
              "      <td>9.0</td>\n",
              "    </tr>\n",
              "    <tr>\n",
              "      <th>17</th>\n",
              "      <td>21</td>\n",
              "      <td>7.0</td>\n",
              "    </tr>\n",
              "    <tr>\n",
              "      <th>391</th>\n",
              "      <td>21</td>\n",
              "      <td>7.5</td>\n",
              "    </tr>\n",
              "  </tbody>\n",
              "</table>\n",
              "</div>\n",
              "      <button class=\"colab-df-convert\" onclick=\"convertToInteractive('df-9b24146f-d821-479e-8ba0-88c524206d01')\"\n",
              "              title=\"Convert this dataframe to an interactive table.\"\n",
              "              style=\"display:none;\">\n",
              "        \n",
              "  <svg xmlns=\"http://www.w3.org/2000/svg\" height=\"24px\"viewBox=\"0 0 24 24\"\n",
              "       width=\"24px\">\n",
              "    <path d=\"M0 0h24v24H0V0z\" fill=\"none\"/>\n",
              "    <path d=\"M18.56 5.44l.94 2.06.94-2.06 2.06-.94-2.06-.94-.94-2.06-.94 2.06-2.06.94zm-11 1L8.5 8.5l.94-2.06 2.06-.94-2.06-.94L8.5 2.5l-.94 2.06-2.06.94zm10 10l.94 2.06.94-2.06 2.06-.94-2.06-.94-.94-2.06-.94 2.06-2.06.94z\"/><path d=\"M17.41 7.96l-1.37-1.37c-.4-.4-.92-.59-1.43-.59-.52 0-1.04.2-1.43.59L10.3 9.45l-7.72 7.72c-.78.78-.78 2.05 0 2.83L4 21.41c.39.39.9.59 1.41.59.51 0 1.02-.2 1.41-.59l7.78-7.78 2.81-2.81c.8-.78.8-2.07 0-2.86zM5.41 20L4 18.59l7.72-7.72 1.47 1.35L5.41 20z\"/>\n",
              "  </svg>\n",
              "      </button>\n",
              "      \n",
              "  <style>\n",
              "    .colab-df-container {\n",
              "      display:flex;\n",
              "      flex-wrap:wrap;\n",
              "      gap: 12px;\n",
              "    }\n",
              "\n",
              "    .colab-df-convert {\n",
              "      background-color: #E8F0FE;\n",
              "      border: none;\n",
              "      border-radius: 50%;\n",
              "      cursor: pointer;\n",
              "      display: none;\n",
              "      fill: #1967D2;\n",
              "      height: 32px;\n",
              "      padding: 0 0 0 0;\n",
              "      width: 32px;\n",
              "    }\n",
              "\n",
              "    .colab-df-convert:hover {\n",
              "      background-color: #E2EBFA;\n",
              "      box-shadow: 0px 1px 2px rgba(60, 64, 67, 0.3), 0px 1px 3px 1px rgba(60, 64, 67, 0.15);\n",
              "      fill: #174EA6;\n",
              "    }\n",
              "\n",
              "    [theme=dark] .colab-df-convert {\n",
              "      background-color: #3B4455;\n",
              "      fill: #D2E3FC;\n",
              "    }\n",
              "\n",
              "    [theme=dark] .colab-df-convert:hover {\n",
              "      background-color: #434B5C;\n",
              "      box-shadow: 0px 1px 3px 1px rgba(0, 0, 0, 0.15);\n",
              "      filter: drop-shadow(0px 1px 2px rgba(0, 0, 0, 0.3));\n",
              "      fill: #FFFFFF;\n",
              "    }\n",
              "  </style>\n",
              "\n",
              "      <script>\n",
              "        const buttonEl =\n",
              "          document.querySelector('#df-9b24146f-d821-479e-8ba0-88c524206d01 button.colab-df-convert');\n",
              "        buttonEl.style.display =\n",
              "          google.colab.kernel.accessAllowed ? 'block' : 'none';\n",
              "\n",
              "        async function convertToInteractive(key) {\n",
              "          const element = document.querySelector('#df-9b24146f-d821-479e-8ba0-88c524206d01');\n",
              "          const dataTable =\n",
              "            await google.colab.kernel.invokeFunction('convertToInteractive',\n",
              "                                                     [key], {});\n",
              "          if (!dataTable) return;\n",
              "\n",
              "          const docLinkHtml = 'Like what you see? Visit the ' +\n",
              "            '<a target=\"_blank\" href=https://colab.research.google.com/notebooks/data_table.ipynb>data table notebook</a>'\n",
              "            + ' to learn more about interactive tables.';\n",
              "          element.innerHTML = '';\n",
              "          dataTable['output_type'] = 'display_data';\n",
              "          await google.colab.output.renderOutput(dataTable, element);\n",
              "          const docLink = document.createElement('div');\n",
              "          docLink.innerHTML = docLinkHtml;\n",
              "          element.appendChild(docLink);\n",
              "        }\n",
              "      </script>\n",
              "    </div>\n",
              "  </div>\n",
              "  "
            ]
          },
          "metadata": {},
          "execution_count": 6
        }
      ]
    },
    {
      "cell_type": "markdown",
      "source": [
        "# Цель и задачи"
      ],
      "metadata": {
        "id": "oYkmBRqmgnui"
      }
    },
    {
      "cell_type": "markdown",
      "source": [
        "Цель:\n",
        "- определить факторы, которые влияют на эффективность сна\n",
        "\n",
        "Задачи:\n",
        "1. Описать/изучить датасет, переменные\n",
        "2. Изменить тип данных в столбцах на более подходящий\n",
        "3. Рассчитать новые переменные, необходимые для анализа датасета\n",
        "4. Выдвинуть гипотезы, основываясь на приведенных и собственных данных\n",
        "5. Провести исследование и подтвердить или опровергнуть гипотезы\n",
        "6. Проанализировать результат и сделать выводы\n",
        "7. Провести описательный анализ \n",
        "8. Выявить влияние факторов на эффективность сна"
      ],
      "metadata": {
        "id": "__2iVAxLgrEf"
      }
    },
    {
      "cell_type": "markdown",
      "source": [
        "# Гипотезы и их подтверждения/опровержения"
      ],
      "metadata": {
        "id": "mP2hFdAJgsKB"
      }
    },
    {
      "cell_type": "markdown",
      "source": [
        "### ***1) При большем потреблении алкоголя сокращается фаза глубокого сна***\n",
        "\n",
        "Переменные:\n",
        "*   потребление алкоголя (исходная)\n",
        "*   медиана процента глубокого сна (собственная)\n",
        "\n",
        "Метод анализа данных:\n",
        "* создаем дополнительную переменную Deep sleep percentage mean, которая будет содержать средние показатели процентов глубокого сна для каждого значения Alcohol consumption (создается ранее)\n",
        "* для наглядности строим график "
      ],
      "metadata": {
        "id": "ZEj5CjJ3gxhu"
      }
    },
    {
      "cell_type": "code",
      "source": [
        "display(df.groupby('Alcohol consumption')['Deep sleep percentage mean'].value_counts().to_frame().plot(title = 'Зависимость процента времени, проведенного в глубоком сне, от кол-ва потребления алкоголя'))"
      ],
      "metadata": {
        "colab": {
          "base_uri": "https://localhost:8080/",
          "height": 313
        },
        "id": "gHKnzmYlaKEo",
        "outputId": "9df76a09-4acd-4917-ac93-027bb93ff231"
      },
      "execution_count": 7,
      "outputs": [
        {
          "output_type": "display_data",
          "data": {
            "text/plain": [
              "<matplotlib.axes._subplots.AxesSubplot at 0x7fe5c8065850>"
            ]
          },
          "metadata": {}
        },
        {
          "output_type": "display_data",
          "data": {
            "text/plain": [
              "<Figure size 432x288 with 1 Axes>"
            ],
            "image/png": "[encoded data removed]"
          },
          "metadata": {
            "needs_background": "light"
          }
        }
      ]
    },
    {
      "cell_type": "markdown",
      "source": [
        "Вывод: гипотеза подтверждена, по графику видно, что с повышением количества алкоголя, выпитого за 24 часа до сна, понижается средней показатель процента глубокого сна"
      ],
      "metadata": {
        "id": "070brScLNPAM"
      }
    },
    {
      "cell_type": "markdown",
      "source": [
        "### ***2) Спорт влияет на фазу легкого сна***\n",
        "\n",
        "Переменные:\n",
        "* частота физических упражнений (исходная)\n",
        "* процент легкого сна (исходная)\n",
        "\n",
        "Метод анализа данных: \n",
        "* лучше всего подойдет расчет корреляции между используемыми переменными "
      ],
      "metadata": {
        "id": "jzjhsmnPPEOM"
      }
    },
    {
      "cell_type": "code",
      "source": [
        "df['Exercise frequency'].corr(df['Light sleep percentage'])"
      ],
      "metadata": {
        "colab": {
          "base_uri": "https://localhost:8080/"
        },
        "id": "jJmiA11IPon3",
        "outputId": "b4c33f31-afb9-42d3-f83e-c92c9b41d792"
      },
      "execution_count": 8,
      "outputs": [
        {
          "output_type": "execute_result",
          "data": {
            "text/plain": [
              "-0.19480941748718808"
            ]
          },
          "metadata": {},
          "execution_count": 8
        }
      ]
    },
    {
      "cell_type": "markdown",
      "source": [
        "Вывод: гипотеза опровергнута, между переменными очень слабая корреляция (0,19)"
      ],
      "metadata": {
        "id": "JBniQQIXP3F6"
      }
    },
    {
      "cell_type": "markdown",
      "source": [
        "### ***3) Время, в которое человек ложится спать, напрямую зависит от возраста*** \n",
        "\n",
        "Переменные:\n",
        "* время отхода ко сну (исходная)\n",
        "* возраст (собственная, категориальная переменная)\n",
        "* возраст (исходная)\n",
        "\n",
        "Метод анализа данных:\n",
        "* для удобства перекодируем переменную возраста из метрической в категориальную (создается ранее)\n",
        "* создадим переменную Bedtime_hour, в которой будут храниться значения часов, когда человек ложится спать (создается ранее)\n",
        "* для наглядности построим столбчатую диаграмму с группировкой по возрасту\n",
        "* для точного определения зависимости рассчитаем корреляцию между возрастом и временем отхода ко сну"
      ],
      "metadata": {
        "id": "GvWgl5DTQ0hD"
      }
    },
    {
      "cell_type": "code",
      "source": [
        "df.groupby('Age_groups')['Bedtime_hour'].value_counts().unstack().plot(kind = 'bar', title = 'Зависимость времени отхода ко сну от возраста')\n",
        "df['Age'].corr(df['Bedtime_hour'])"
      ],
      "metadata": {
        "colab": {
          "base_uri": "https://localhost:8080/",
          "height": 335
        },
        "id": "xDLqNXTkQ-DN",
        "outputId": "15bcfdfe-6d27-4f93-b094-6bcb746a5503"
      },
      "execution_count": 9,
      "outputs": [
        {
          "output_type": "execute_result",
          "data": {
            "text/plain": [
              "-0.06826551604143505"
            ]
          },
          "metadata": {},
          "execution_count": 9
        },
        {
          "output_type": "display_data",
          "data": {
            "text/plain": [
              "<Figure size 432x288 with 1 Axes>"
            ],
            "image/png": "[encoded data removed]"
          },
          "metadata": {
            "needs_background": "light"
          }
        }
      ]
    },
    {
      "cell_type": "markdown",
      "source": [
        "Вывод: (гипотеза опровергнута)\n",
        "1. Из диаграммы видно, что молодые люди чаще всего ложатся спать в час ночи, среднего возраста - в 00:00, а пожилые - в 2 \n",
        "2. Корреляция обратная очень слабая \n",
        "\n"
      ],
      "metadata": {
        "id": "xy0DWb69Z2jT"
      }
    },
    {
      "cell_type": "markdown",
      "source": [
        "### ***4) Люди, которые не курят и старше, спят в среднем больше***\n",
        "\n",
        "Переменные:\n",
        "* продолжительность сна (исходная)\n",
        "* статус курения (исходная)\n",
        "* возраст (собственная, категориальная переменная) \n",
        "\n",
        "Метод анализа данных:\n",
        "* строим сводную таблицу по времени сна с группировкой по возрасту и статусу курения"
      ],
      "metadata": {
        "id": "p0-3NZVYcgo7"
      }
    },
    {
      "cell_type": "code",
      "source": [
        "df.pivot_table('Sleep duration', index='Age_groups', columns='Smoking status')"
      ],
      "metadata": {
        "colab": {
          "base_uri": "https://localhost:8080/",
          "height": 175
        },
        "id": "DMUpuTHxd1UJ",
        "outputId": "ca6a24c7-e9de-4fcc-9942-5909d33b2951"
      },
      "execution_count": 10,
      "outputs": [
        {
          "output_type": "execute_result",
          "data": {
            "text/plain": [
              "Smoking status        No       Yes\n",
              "Age_groups                        \n",
              "adult           7.409266  7.468085\n",
              "old             7.717391  7.363636\n",
              "young           7.777778  8.222222"
            ],
            "text/html": [
              "\n",
              "  <div id=\"df-e9ac0c11-3fdb-4565-8c3c-1b4b7e9b0351\">\n",
              "    <div class=\"colab-df-container\">\n",
              "      <div>\n",
              "<style scoped>\n",
              "    .dataframe tbody tr th:only-of-type {\n",
              "        vertical-align: middle;\n",
              "    }\n",
              "\n",
              "    .dataframe tbody tr th {\n",
              "        vertical-align: top;\n",
              "    }\n",
              "\n",
              "    .dataframe thead th {\n",
              "        text-align: right;\n",
              "    }\n",
              "</style>\n",
              "<table border=\"1\" class=\"dataframe\">\n",
              "  <thead>\n",
              "    <tr style=\"text-align: right;\">\n",
              "      <th>Smoking status</th>\n",
              "      <th>No</th>\n",
              "      <th>Yes</th>\n",
              "    </tr>\n",
              "    <tr>\n",
              "      <th>Age_groups</th>\n",
              "      <th></th>\n",
              "      <th></th>\n",
              "    </tr>\n",
              "  </thead>\n",
              "  <tbody>\n",
              "    <tr>\n",
              "      <th>adult</th>\n",
              "      <td>7.409266</td>\n",
              "      <td>7.468085</td>\n",
              "    </tr>\n",
              "    <tr>\n",
              "      <th>old</th>\n",
              "      <td>7.717391</td>\n",
              "      <td>7.363636</td>\n",
              "    </tr>\n",
              "    <tr>\n",
              "      <th>young</th>\n",
              "      <td>7.777778</td>\n",
              "      <td>8.222222</td>\n",
              "    </tr>\n",
              "  </tbody>\n",
              "</table>\n",
              "</div>\n",
              "      <button class=\"colab-df-convert\" onclick=\"convertToInteractive('df-e9ac0c11-3fdb-4565-8c3c-1b4b7e9b0351')\"\n",
              "              title=\"Convert this dataframe to an interactive table.\"\n",
              "              style=\"display:none;\">\n",
              "        \n",
              "  <svg xmlns=\"http://www.w3.org/2000/svg\" height=\"24px\"viewBox=\"0 0 24 24\"\n",
              "       width=\"24px\">\n",
              "    <path d=\"M0 0h24v24H0V0z\" fill=\"none\"/>\n",
              "    <path d=\"M18.56 5.44l.94 2.06.94-2.06 2.06-.94-2.06-.94-.94-2.06-.94 2.06-2.06.94zm-11 1L8.5 8.5l.94-2.06 2.06-.94-2.06-.94L8.5 2.5l-.94 2.06-2.06.94zm10 10l.94 2.06.94-2.06 2.06-.94-2.06-.94-.94-2.06-.94 2.06-2.06.94z\"/><path d=\"M17.41 7.96l-1.37-1.37c-.4-.4-.92-.59-1.43-.59-.52 0-1.04.2-1.43.59L10.3 9.45l-7.72 7.72c-.78.78-.78 2.05 0 2.83L4 21.41c.39.39.9.59 1.41.59.51 0 1.02-.2 1.41-.59l7.78-7.78 2.81-2.81c.8-.78.8-2.07 0-2.86zM5.41 20L4 18.59l7.72-7.72 1.47 1.35L5.41 20z\"/>\n",
              "  </svg>\n",
              "      </button>\n",
              "      \n",
              "  <style>\n",
              "    .colab-df-container {\n",
              "      display:flex;\n",
              "      flex-wrap:wrap;\n",
              "      gap: 12px;\n",
              "    }\n",
              "\n",
              "    .colab-df-convert {\n",
              "      background-color: #E8F0FE;\n",
              "      border: none;\n",
              "      border-radius: 50%;\n",
              "      cursor: pointer;\n",
              "      display: none;\n",
              "      fill: #1967D2;\n",
              "      height: 32px;\n",
              "      padding: 0 0 0 0;\n",
              "      width: 32px;\n",
              "    }\n",
              "\n",
              "    .colab-df-convert:hover {\n",
              "      background-color: #E2EBFA;\n",
              "      box-shadow: 0px 1px 2px rgba(60, 64, 67, 0.3), 0px 1px 3px 1px rgba(60, 64, 67, 0.15);\n",
              "      fill: #174EA6;\n",
              "    }\n",
              "\n",
              "    [theme=dark] .colab-df-convert {\n",
              "      background-color: #3B4455;\n",
              "      fill: #D2E3FC;\n",
              "    }\n",
              "\n",
              "    [theme=dark] .colab-df-convert:hover {\n",
              "      background-color: #434B5C;\n",
              "      box-shadow: 0px 1px 3px 1px rgba(0, 0, 0, 0.15);\n",
              "      filter: drop-shadow(0px 1px 2px rgba(0, 0, 0, 0.3));\n",
              "      fill: #FFFFFF;\n",
              "    }\n",
              "  </style>\n",
              "\n",
              "      <script>\n",
              "        const buttonEl =\n",
              "          document.querySelector('#df-e9ac0c11-3fdb-4565-8c3c-1b4b7e9b0351 button.colab-df-convert');\n",
              "        buttonEl.style.display =\n",
              "          google.colab.kernel.accessAllowed ? 'block' : 'none';\n",
              "\n",
              "        async function convertToInteractive(key) {\n",
              "          const element = document.querySelector('#df-e9ac0c11-3fdb-4565-8c3c-1b4b7e9b0351');\n",
              "          const dataTable =\n",
              "            await google.colab.kernel.invokeFunction('convertToInteractive',\n",
              "                                                     [key], {});\n",
              "          if (!dataTable) return;\n",
              "\n",
              "          const docLinkHtml = 'Like what you see? Visit the ' +\n",
              "            '<a target=\"_blank\" href=https://colab.research.google.com/notebooks/data_table.ipynb>data table notebook</a>'\n",
              "            + ' to learn more about interactive tables.';\n",
              "          element.innerHTML = '';\n",
              "          dataTable['output_type'] = 'display_data';\n",
              "          await google.colab.output.renderOutput(dataTable, element);\n",
              "          const docLink = document.createElement('div');\n",
              "          docLink.innerHTML = docLinkHtml;\n",
              "          element.appendChild(docLink);\n",
              "        }\n",
              "      </script>\n",
              "    </div>\n",
              "  </div>\n",
              "  "
            ]
          },
          "metadata": {},
          "execution_count": 10
        }
      ]
    },
    {
      "cell_type": "markdown",
      "source": [
        "Вывод: гипотеза опровергнута, в среднем больше спят молодые люди, которые курят"
      ],
      "metadata": {
        "id": "5W2EKrWwhKcQ"
      }
    },
    {
      "cell_type": "markdown",
      "source": [
        "### ***5) Курение пагубно влияет на эффективность сна*** \n",
        "\n",
        "Переменные:\n",
        "* эффективность сна (исходная)\n",
        "* статус курения (исходная)\n",
        "* пол\n",
        "\n",
        "Метод анализа данных:\n",
        "* строим сводную таблицу по эффективности сна с группировкой по полу и статусу курения"
      ],
      "metadata": {
        "id": "3y3IvhIjhWzo"
      }
    },
    {
      "cell_type": "code",
      "source": [
        "df.pivot_table('Sleep efficiency', index='Gender', columns='Smoking status')"
      ],
      "metadata": {
        "colab": {
          "base_uri": "https://localhost:8080/",
          "height": 143
        },
        "id": "tbPRZNDwh3ID",
        "outputId": "3dd0a688-5485-458f-bf03-86d2cf25cd0f"
      },
      "execution_count": 11,
      "outputs": [
        {
          "output_type": "execute_result",
          "data": {
            "text/plain": [
              "Smoking status        No       Yes\n",
              "Gender                            \n",
              "Female          0.828718  0.693088\n",
              "Male            0.814741  0.754731"
            ],
            "text/html": [
              "\n",
              "  <div id=\"df-00dae58e-c747-4c97-a817-5e859c93e4e8\">\n",
              "    <div class=\"colab-df-container\">\n",
              "      <div>\n",
              "<style scoped>\n",
              "    .dataframe tbody tr th:only-of-type {\n",
              "        vertical-align: middle;\n",
              "    }\n",
              "\n",
              "    .dataframe tbody tr th {\n",
              "        vertical-align: top;\n",
              "    }\n",
              "\n",
              "    .dataframe thead th {\n",
              "        text-align: right;\n",
              "    }\n",
              "</style>\n",
              "<table border=\"1\" class=\"dataframe\">\n",
              "  <thead>\n",
              "    <tr style=\"text-align: right;\">\n",
              "      <th>Smoking status</th>\n",
              "      <th>No</th>\n",
              "      <th>Yes</th>\n",
              "    </tr>\n",
              "    <tr>\n",
              "      <th>Gender</th>\n",
              "      <th></th>\n",
              "      <th></th>\n",
              "    </tr>\n",
              "  </thead>\n",
              "  <tbody>\n",
              "    <tr>\n",
              "      <th>Female</th>\n",
              "      <td>0.828718</td>\n",
              "      <td>0.693088</td>\n",
              "    </tr>\n",
              "    <tr>\n",
              "      <th>Male</th>\n",
              "      <td>0.814741</td>\n",
              "      <td>0.754731</td>\n",
              "    </tr>\n",
              "  </tbody>\n",
              "</table>\n",
              "</div>\n",
              "      <button class=\"colab-df-convert\" onclick=\"convertToInteractive('df-00dae58e-c747-4c97-a817-5e859c93e4e8')\"\n",
              "              title=\"Convert this dataframe to an interactive table.\"\n",
              "              style=\"display:none;\">\n",
              "        \n",
              "  <svg xmlns=\"http://www.w3.org/2000/svg\" height=\"24px\"viewBox=\"0 0 24 24\"\n",
              "       width=\"24px\">\n",
              "    <path d=\"M0 0h24v24H0V0z\" fill=\"none\"/>\n",
              "    <path d=\"M18.56 5.44l.94 2.06.94-2.06 2.06-.94-2.06-.94-.94-2.06-.94 2.06-2.06.94zm-11 1L8.5 8.5l.94-2.06 2.06-.94-2.06-.94L8.5 2.5l-.94 2.06-2.06.94zm10 10l.94 2.06.94-2.06 2.06-.94-2.06-.94-.94-2.06-.94 2.06-2.06.94z\"/><path d=\"M17.41 7.96l-1.37-1.37c-.4-.4-.92-.59-1.43-.59-.52 0-1.04.2-1.43.59L10.3 9.45l-7.72 7.72c-.78.78-.78 2.05 0 2.83L4 21.41c.39.39.9.59 1.41.59.51 0 1.02-.2 1.41-.59l7.78-7.78 2.81-2.81c.8-.78.8-2.07 0-2.86zM5.41 20L4 18.59l7.72-7.72 1.47 1.35L5.41 20z\"/>\n",
              "  </svg>\n",
              "      </button>\n",
              "      \n",
              "  <style>\n",
              "    .colab-df-container {\n",
              "      display:flex;\n",
              "      flex-wrap:wrap;\n",
              "      gap: 12px;\n",
              "    }\n",
              "\n",
              "    .colab-df-convert {\n",
              "      background-color: #E8F0FE;\n",
              "      border: none;\n",
              "      border-radius: 50%;\n",
              "      cursor: pointer;\n",
              "      display: none;\n",
              "      fill: #1967D2;\n",
              "      height: 32px;\n",
              "      padding: 0 0 0 0;\n",
              "      width: 32px;\n",
              "    }\n",
              "\n",
              "    .colab-df-convert:hover {\n",
              "      background-color: #E2EBFA;\n",
              "      box-shadow: 0px 1px 2px rgba(60, 64, 67, 0.3), 0px 1px 3px 1px rgba(60, 64, 67, 0.15);\n",
              "      fill: #174EA6;\n",
              "    }\n",
              "\n",
              "    [theme=dark] .colab-df-convert {\n",
              "      background-color: #3B4455;\n",
              "      fill: #D2E3FC;\n",
              "    }\n",
              "\n",
              "    [theme=dark] .colab-df-convert:hover {\n",
              "      background-color: #434B5C;\n",
              "      box-shadow: 0px 1px 3px 1px rgba(0, 0, 0, 0.15);\n",
              "      filter: drop-shadow(0px 1px 2px rgba(0, 0, 0, 0.3));\n",
              "      fill: #FFFFFF;\n",
              "    }\n",
              "  </style>\n",
              "\n",
              "      <script>\n",
              "        const buttonEl =\n",
              "          document.querySelector('#df-00dae58e-c747-4c97-a817-5e859c93e4e8 button.colab-df-convert');\n",
              "        buttonEl.style.display =\n",
              "          google.colab.kernel.accessAllowed ? 'block' : 'none';\n",
              "\n",
              "        async function convertToInteractive(key) {\n",
              "          const element = document.querySelector('#df-00dae58e-c747-4c97-a817-5e859c93e4e8');\n",
              "          const dataTable =\n",
              "            await google.colab.kernel.invokeFunction('convertToInteractive',\n",
              "                                                     [key], {});\n",
              "          if (!dataTable) return;\n",
              "\n",
              "          const docLinkHtml = 'Like what you see? Visit the ' +\n",
              "            '<a target=\"_blank\" href=https://colab.research.google.com/notebooks/data_table.ipynb>data table notebook</a>'\n",
              "            + ' to learn more about interactive tables.';\n",
              "          element.innerHTML = '';\n",
              "          dataTable['output_type'] = 'display_data';\n",
              "          await google.colab.output.renderOutput(dataTable, element);\n",
              "          const docLink = document.createElement('div');\n",
              "          docLink.innerHTML = docLinkHtml;\n",
              "          element.appendChild(docLink);\n",
              "        }\n",
              "      </script>\n",
              "    </div>\n",
              "  </div>\n",
              "  "
            ]
          },
          "metadata": {},
          "execution_count": 11
        }
      ]
    },
    {
      "cell_type": "markdown",
      "source": [
        "Вывод: гипотеза подтверждена, и у мужчин, и у женщин эффективность сна ниже, если они курят"
      ],
      "metadata": {
        "id": "mA2zo8NLj3-k"
      }
    },
    {
      "cell_type": "markdown",
      "source": [
        "### ***6) Продолжительность сна у женщин больше чем у мужчин (любого возраста)***\n",
        "\n",
        "Переменные:\n",
        "* продолжительность сна (исходная)\n",
        "* возраст (собственная, категориальная переменная)\n",
        "* пол (исходная)\n",
        "\n",
        "Метод анализа данных:\n",
        "* строим сводную таблицу по продолжительности сна с группировкой по полу и возрасту"
      ],
      "metadata": {
        "id": "YZOHt5F1lAzT"
      }
    },
    {
      "cell_type": "code",
      "source": [
        "df.pivot_table('Sleep duration', index='Gender', columns='Age_groups')"
      ],
      "metadata": {
        "colab": {
          "base_uri": "https://localhost:8080/",
          "height": 143
        },
        "id": "bZ_InFYBnyB2",
        "outputId": "18c2194e-2495-4450-836b-0926c76fbc17"
      },
      "execution_count": 12,
      "outputs": [
        {
          "output_type": "execute_result",
          "data": {
            "text/plain": [
              "Age_groups     adult       old     young\n",
              "Gender                                  \n",
              "Female      7.461538  7.593750  8.038462\n",
              "Male        7.400000  7.611111  7.900000"
            ],
            "text/html": [
              "\n",
              "  <div id=\"df-90ec131d-f620-4e17-a4df-3f1cd6d83359\">\n",
              "    <div class=\"colab-df-container\">\n",
              "      <div>\n",
              "<style scoped>\n",
              "    .dataframe tbody tr th:only-of-type {\n",
              "        vertical-align: middle;\n",
              "    }\n",
              "\n",
              "    .dataframe tbody tr th {\n",
              "        vertical-align: top;\n",
              "    }\n",
              "\n",
              "    .dataframe thead th {\n",
              "        text-align: right;\n",
              "    }\n",
              "</style>\n",
              "<table border=\"1\" class=\"dataframe\">\n",
              "  <thead>\n",
              "    <tr style=\"text-align: right;\">\n",
              "      <th>Age_groups</th>\n",
              "      <th>adult</th>\n",
              "      <th>old</th>\n",
              "      <th>young</th>\n",
              "    </tr>\n",
              "    <tr>\n",
              "      <th>Gender</th>\n",
              "      <th></th>\n",
              "      <th></th>\n",
              "      <th></th>\n",
              "    </tr>\n",
              "  </thead>\n",
              "  <tbody>\n",
              "    <tr>\n",
              "      <th>Female</th>\n",
              "      <td>7.461538</td>\n",
              "      <td>7.593750</td>\n",
              "      <td>8.038462</td>\n",
              "    </tr>\n",
              "    <tr>\n",
              "      <th>Male</th>\n",
              "      <td>7.400000</td>\n",
              "      <td>7.611111</td>\n",
              "      <td>7.900000</td>\n",
              "    </tr>\n",
              "  </tbody>\n",
              "</table>\n",
              "</div>\n",
              "      <button class=\"colab-df-convert\" onclick=\"convertToInteractive('df-90ec131d-f620-4e17-a4df-3f1cd6d83359')\"\n",
              "              title=\"Convert this dataframe to an interactive table.\"\n",
              "              style=\"display:none;\">\n",
              "        \n",
              "  <svg xmlns=\"http://www.w3.org/2000/svg\" height=\"24px\"viewBox=\"0 0 24 24\"\n",
              "       width=\"24px\">\n",
              "    <path d=\"M0 0h24v24H0V0z\" fill=\"none\"/>\n",
              "    <path d=\"M18.56 5.44l.94 2.06.94-2.06 2.06-.94-2.06-.94-.94-2.06-.94 2.06-2.06.94zm-11 1L8.5 8.5l.94-2.06 2.06-.94-2.06-.94L8.5 2.5l-.94 2.06-2.06.94zm10 10l.94 2.06.94-2.06 2.06-.94-2.06-.94-.94-2.06-.94 2.06-2.06.94z\"/><path d=\"M17.41 7.96l-1.37-1.37c-.4-.4-.92-.59-1.43-.59-.52 0-1.04.2-1.43.59L10.3 9.45l-7.72 7.72c-.78.78-.78 2.05 0 2.83L4 21.41c.39.39.9.59 1.41.59.51 0 1.02-.2 1.41-.59l7.78-7.78 2.81-2.81c.8-.78.8-2.07 0-2.86zM5.41 20L4 18.59l7.72-7.72 1.47 1.35L5.41 20z\"/>\n",
              "  </svg>\n",
              "      </button>\n",
              "      \n",
              "  <style>\n",
              "    .colab-df-container {\n",
              "      display:flex;\n",
              "      flex-wrap:wrap;\n",
              "      gap: 12px;\n",
              "    }\n",
              "\n",
              "    .colab-df-convert {\n",
              "      background-color: #E8F0FE;\n",
              "      border: none;\n",
              "      border-radius: 50%;\n",
              "      cursor: pointer;\n",
              "      display: none;\n",
              "      fill: #1967D2;\n",
              "      height: 32px;\n",
              "      padding: 0 0 0 0;\n",
              "      width: 32px;\n",
              "    }\n",
              "\n",
              "    .colab-df-convert:hover {\n",
              "      background-color: #E2EBFA;\n",
              "      box-shadow: 0px 1px 2px rgba(60, 64, 67, 0.3), 0px 1px 3px 1px rgba(60, 64, 67, 0.15);\n",
              "      fill: #174EA6;\n",
              "    }\n",
              "\n",
              "    [theme=dark] .colab-df-convert {\n",
              "      background-color: #3B4455;\n",
              "      fill: #D2E3FC;\n",
              "    }\n",
              "\n",
              "    [theme=dark] .colab-df-convert:hover {\n",
              "      background-color: #434B5C;\n",
              "      box-shadow: 0px 1px 3px 1px rgba(0, 0, 0, 0.15);\n",
              "      filter: drop-shadow(0px 1px 2px rgba(0, 0, 0, 0.3));\n",
              "      fill: #FFFFFF;\n",
              "    }\n",
              "  </style>\n",
              "\n",
              "      <script>\n",
              "        const buttonEl =\n",
              "          document.querySelector('#df-90ec131d-f620-4e17-a4df-3f1cd6d83359 button.colab-df-convert');\n",
              "        buttonEl.style.display =\n",
              "          google.colab.kernel.accessAllowed ? 'block' : 'none';\n",
              "\n",
              "        async function convertToInteractive(key) {\n",
              "          const element = document.querySelector('#df-90ec131d-f620-4e17-a4df-3f1cd6d83359');\n",
              "          const dataTable =\n",
              "            await google.colab.kernel.invokeFunction('convertToInteractive',\n",
              "                                                     [key], {});\n",
              "          if (!dataTable) return;\n",
              "\n",
              "          const docLinkHtml = 'Like what you see? Visit the ' +\n",
              "            '<a target=\"_blank\" href=https://colab.research.google.com/notebooks/data_table.ipynb>data table notebook</a>'\n",
              "            + ' to learn more about interactive tables.';\n",
              "          element.innerHTML = '';\n",
              "          dataTable['output_type'] = 'display_data';\n",
              "          await google.colab.output.renderOutput(dataTable, element);\n",
              "          const docLink = document.createElement('div');\n",
              "          docLink.innerHTML = docLinkHtml;\n",
              "          element.appendChild(docLink);\n",
              "        }\n",
              "      </script>\n",
              "    </div>\n",
              "  </div>\n",
              "  "
            ]
          },
          "metadata": {},
          "execution_count": 12
        }
      ]
    },
    {
      "cell_type": "markdown",
      "source": [
        "Вывод: гипотеза опровергнута; из сводной таблицы видно, что среди пожилых людей продолжительность сна выше у мужчин"
      ],
      "metadata": {
        "id": "7LL07cUjqTvs"
      }
    },
    {
      "cell_type": "markdown",
      "source": [
        "### ***7) Между временем пробуждения и отхода ко сну существует сильная взаимосвязь*** \n",
        "\n",
        "Переменные:\n",
        "* время пробуждения в часах (собственная)\n",
        "* время отхода к сну в часах (собственная)\n",
        "\n",
        "Метод анализа данных:\n",
        "* создадим переменные Bedtime_hour и Wakeup_time_hour, в которых будут храниться значения часов, когда человек ложится спать/встает (создаются ранее)\n",
        "* для определения зависимости рассчитаем корреляцию между временем пробуждения и отхода ко сну"
      ],
      "metadata": {
        "id": "oHfOYkQpq2cZ"
      }
    },
    {
      "cell_type": "code",
      "source": [
        "df['Wakeup_time_hour'].corr(df['Bedtime_hour'])"
      ],
      "metadata": {
        "colab": {
          "base_uri": "https://localhost:8080/"
        },
        "id": "RehqQUlyrfHE",
        "outputId": "a084db81-ae34-4ba3-94fa-a6866545b095"
      },
      "execution_count": 13,
      "outputs": [
        {
          "output_type": "execute_result",
          "data": {
            "text/plain": [
              "-0.7709144156042781"
            ]
          },
          "metadata": {},
          "execution_count": 13
        }
      ]
    },
    {
      "cell_type": "markdown",
      "source": [
        "Вывод: гипотеза подтверждена, корреляция обратная сильная"
      ],
      "metadata": {
        "id": "cfmGlMZNs7C3"
      }
    },
    {
      "cell_type": "markdown",
      "source": [
        "### ***8) При курении человеку сложнее впасть в глубокую фазу сна*** \n",
        "\n",
        "Переменные:\n",
        "* cтатус курения (исходная)\n",
        "* процент глубокого сна (исходная)\n",
        "\n",
        "Метод анализа данных:\n",
        "* посторим столбчатую диаграмму с группировкой по проценту глубокого сна"
      ],
      "metadata": {
        "id": "6cdWkTXmukFi"
      }
    },
    {
      "cell_type": "code",
      "source": [
        "df.groupby('Deep sleep percentage')['Smoking status'].value_counts().unstack().plot(kind = 'bar', title = 'Зависимость глубокой фазы сна от курения')"
      ],
      "metadata": {
        "colab": {
          "base_uri": "https://localhost:8080/",
          "height": 316
        },
        "id": "CM2xruACxzoK",
        "outputId": "e14f1675-1d7d-4625-8915-89cf6414a6ed"
      },
      "execution_count": 14,
      "outputs": [
        {
          "output_type": "execute_result",
          "data": {
            "text/plain": [
              "<matplotlib.axes._subplots.AxesSubplot at 0x7fe5c3a709d0>"
            ]
          },
          "metadata": {},
          "execution_count": 14
        },
        {
          "output_type": "display_data",
          "data": {
            "text/plain": [
              "<Figure size 432x288 with 1 Axes>"
            ],
            "image/png": "[encoded data removed]"
          },
          "metadata": {
            "needs_background": "light"
          }
        }
      ]
    },
    {
      "cell_type": "markdown",
      "source": [
        "Вывод: гипотеза подтверждена, лишь в 7 из 18 случаев разных значений процентов глубокого сна оказывается больше курящих людей "
      ],
      "metadata": {
        "id": "LTDo-uijzxAP"
      }
    },
    {
      "cell_type": "markdown",
      "source": [
        "### ***9) Большую часть времени, которую люди проводят в постели, они спят***\n",
        "\n",
        "Переменная:\n",
        "* эффективность сна (исходная)\n",
        "\n",
        "Метод анализа данных:\n",
        "* постоим график распределения для эффективности сна и посчитаем асимметрию "
      ],
      "metadata": {
        "id": "sgp92R911ErY"
      }
    },
    {
      "cell_type": "code",
      "source": [
        "import pandas as pd\n",
        "import seaborn as sns\n",
        "from scipy.stats import norm\n",
        "display(sns.distplot(df['Sleep efficiency'].dropna(), fit=norm))\n",
        "display(df['Sleep efficiency'].skew())"
      ],
      "metadata": {
        "colab": {
          "base_uri": "https://localhost:8080/",
          "height": 372
        },
        "id": "d7GL-zFR2OWY",
        "outputId": "a7364728-3698-4da1-c4e8-894be17715d3"
      },
      "execution_count": 15,
      "outputs": [
        {
          "output_type": "stream",
          "name": "stderr",
          "text": [
            "/usr/local/lib/python3.8/dist-packages/seaborn/distributions.py:2619: FutureWarning: `distplot` is a deprecated function and will be removed in a future version. Please adapt your code to use either `displot` (a figure-level function with similar flexibility) or `histplot` (an axes-level function for histograms).\n",
            "  warnings.warn(msg, FutureWarning)\n"
          ]
        },
        {
          "output_type": "display_data",
          "data": {
            "text/plain": [
              "<matplotlib.axes._subplots.AxesSubplot at 0x7fe5bc1fcf10>"
            ]
          },
          "metadata": {}
        },
        {
          "output_type": "display_data",
          "data": {
            "text/plain": [
              "-0.65027356933683"
            ]
          },
          "metadata": {}
        },
        {
          "output_type": "display_data",
          "data": {
            "text/plain": [
              "<Figure size 432x288 with 1 Axes>"
            ],
            "image/png": "[encoded data removed]"
          },
          "metadata": {
            "needs_background": "light"
          }
        }
      ]
    },
    {
      "cell_type": "markdown",
      "source": [
        "Вывод: гипотеза подтверждена, на графике видно, что больше значений в районе 0.9 и асимметрия отрицательна, что подтверждает сказанное выше, чаще встречаются более высокие значения"
      ],
      "metadata": {
        "id": "BOvr9PVu2vnq"
      }
    },
    {
      "cell_type": "markdown",
      "source": [
        "### ***10) Кол-во раз, которое человек просыпается ночью, зависит от того, употреблял ли он кофеин за последние 24 часа***\n",
        "\n",
        "Переменные:\n",
        "* употребление кофеина (собственная, бинарная)\n",
        "* кол-во раз, которое человек прыпается ночью\n",
        "\n",
        "Метод анализа данных:\n",
        "* создаем вспомогательную переменную, которая указывает на то, употреблял ли человек кофеин (создается ранее)\n",
        "* для наглядности строим столбчатую диаграмму с группировкой по кол-ву раз подъема человека ночью\n",
        "* для точного определения зависимости рассчитаем корреляцию между кол-вом подъемов ночью и тем, употреблял ли кофеин этот человек"
      ],
      "metadata": {
        "id": "8s4tiTar51fF"
      }
    },
    {
      "cell_type": "code",
      "source": [
        "df.groupby('Awakenings')['caffeine_consumption_bin'].value_counts().unstack().plot(kind = 'bar', title = 'Зависимость кол-ва подъемов ночью сна от употребления кофеина')\n",
        "df['Awakenings'].corr(df['Caffeine consumption'])"
      ],
      "metadata": {
        "colab": {
          "base_uri": "https://localhost:8080/",
          "height": 319
        },
        "id": "chK7g5ug9rgW",
        "outputId": "d64b7006-da81-4800-ccbb-6cac9e35b332"
      },
      "execution_count": 16,
      "outputs": [
        {
          "output_type": "execute_result",
          "data": {
            "text/plain": [
              "-0.10861487528439072"
            ]
          },
          "metadata": {},
          "execution_count": 16
        },
        {
          "output_type": "display_data",
          "data": {
            "text/plain": [
              "<Figure size 432x288 with 1 Axes>"
            ],
            "image/png": "[encoded data removed]"
          },
          "metadata": {
            "needs_background": "light"
          }
        }
      ]
    },
    {
      "cell_type": "markdown",
      "source": [
        "Вывод: (гипотеза опровергнута)\n",
        "* корреляция очень слабая\n",
        "* график показывает, что не наблюдается никакой ярко выраженной зависимости данных переменных"
      ],
      "metadata": {
        "id": "mdJTCzxW_gOx"
      }
    },
    {
      "cell_type": "markdown",
      "source": [
        "# Описательная статистика"
      ],
      "metadata": {
        "id": "PZtJBs3PEUXd"
      }
    },
    {
      "cell_type": "code",
      "source": [
        "import pandas as pd\n",
        "df = pd.read_csv('/content/drive/MyDrive/Colab Notebooks/Sleep_Efficiency.csv', index_col=0)\n",
        "df.describe()"
      ],
      "metadata": {
        "colab": {
          "base_uri": "https://localhost:8080/",
          "height": 300
        },
        "id": "YftP8gZiFcDd",
        "outputId": "fd64c3b5-043a-48ee-9e8e-2d9ab38ce864"
      },
      "execution_count": 17,
      "outputs": [
        {
          "output_type": "execute_result",
          "data": {
            "text/plain": [
              "              Age  Sleep duration  Sleep efficiency  REM sleep percentage  \\\n",
              "count  452.000000      452.000000        452.000000            452.000000   \n",
              "mean    40.285398        7.465708          0.788916             23.002212   \n",
              "std     13.172250        0.866625          0.135237              3.972466   \n",
              "min      9.000000        5.000000          0.500000             15.000000   \n",
              "25%     29.000000        7.000000          0.697500             20.000000   \n",
              "50%     40.000000        7.500000          0.820000             22.000000   \n",
              "75%     52.000000        8.000000          0.900000             27.000000   \n",
              "max     69.000000       10.000000          0.990000             30.000000   \n",
              "\n",
              "       Deep sleep percentage  Light sleep percentage  Awakenings  \\\n",
              "count             452.000000              452.000000  432.000000   \n",
              "mean               52.960177               24.831858    1.641204   \n",
              "std                15.561713               15.150774    1.356762   \n",
              "min                20.000000                7.000000    0.000000   \n",
              "25%                51.250000               15.000000    1.000000   \n",
              "50%                60.000000               18.000000    1.000000   \n",
              "75%                63.000000               27.250000    3.000000   \n",
              "max                75.000000               56.000000    4.000000   \n",
              "\n",
              "       Caffeine consumption  Alcohol consumption  Exercise frequency  \n",
              "count            427.000000           436.000000          446.000000  \n",
              "mean              23.653396             1.245413            1.791480  \n",
              "std               30.202785             1.643336            1.428134  \n",
              "min                0.000000             0.000000            0.000000  \n",
              "25%                0.000000             0.000000            0.000000  \n",
              "50%               25.000000             0.000000            2.000000  \n",
              "75%               50.000000             2.000000            3.000000  \n",
              "max              200.000000             5.000000            5.000000  "
            ],
            "text/html": [
              "\n",
              "  <div id=\"df-9def5b00-2528-4382-898f-dfab469ae583\">\n",
              "    <div class=\"colab-df-container\">\n",
              "      <div>\n",
              "<style scoped>\n",
              "    .dataframe tbody tr th:only-of-type {\n",
              "        vertical-align: middle;\n",
              "    }\n",
              "\n",
              "    .dataframe tbody tr th {\n",
              "        vertical-align: top;\n",
              "    }\n",
              "\n",
              "    .dataframe thead th {\n",
              "        text-align: right;\n",
              "    }\n",
              "</style>\n",
              "<table border=\"1\" class=\"dataframe\">\n",
              "  <thead>\n",
              "    <tr style=\"text-align: right;\">\n",
              "      <th></th>\n",
              "      <th>Age</th>\n",
              "      <th>Sleep duration</th>\n",
              "      <th>Sleep efficiency</th>\n",
              "      <th>REM sleep percentage</th>\n",
              "      <th>Deep sleep percentage</th>\n",
              "      <th>Light sleep percentage</th>\n",
              "      <th>Awakenings</th>\n",
              "      <th>Caffeine consumption</th>\n",
              "      <th>Alcohol consumption</th>\n",
              "      <th>Exercise frequency</th>\n",
              "    </tr>\n",
              "  </thead>\n",
              "  <tbody>\n",
              "    <tr>\n",
              "      <th>count</th>\n",
              "      <td>452.000000</td>\n",
              "      <td>452.000000</td>\n",
              "      <td>452.000000</td>\n",
              "      <td>452.000000</td>\n",
              "      <td>452.000000</td>\n",
              "      <td>452.000000</td>\n",
              "      <td>432.000000</td>\n",
              "      <td>427.000000</td>\n",
              "      <td>436.000000</td>\n",
              "      <td>446.000000</td>\n",
              "    </tr>\n",
              "    <tr>\n",
              "      <th>mean</th>\n",
              "      <td>40.285398</td>\n",
              "      <td>7.465708</td>\n",
              "      <td>0.788916</td>\n",
              "      <td>23.002212</td>\n",
              "      <td>52.960177</td>\n",
              "      <td>24.831858</td>\n",
              "      <td>1.641204</td>\n",
              "      <td>23.653396</td>\n",
              "      <td>1.245413</td>\n",
              "      <td>1.791480</td>\n",
              "    </tr>\n",
              "    <tr>\n",
              "      <th>std</th>\n",
              "      <td>13.172250</td>\n",
              "      <td>0.866625</td>\n",
              "      <td>0.135237</td>\n",
              "      <td>3.972466</td>\n",
              "      <td>15.561713</td>\n",
              "      <td>15.150774</td>\n",
              "      <td>1.356762</td>\n",
              "      <td>30.202785</td>\n",
              "      <td>1.643336</td>\n",
              "      <td>1.428134</td>\n",
              "    </tr>\n",
              "    <tr>\n",
              "      <th>min</th>\n",
              "      <td>9.000000</td>\n",
              "      <td>5.000000</td>\n",
              "      <td>0.500000</td>\n",
              "      <td>15.000000</td>\n",
              "      <td>20.000000</td>\n",
              "      <td>7.000000</td>\n",
              "      <td>0.000000</td>\n",
              "      <td>0.000000</td>\n",
              "      <td>0.000000</td>\n",
              "      <td>0.000000</td>\n",
              "    </tr>\n",
              "    <tr>\n",
              "      <th>25%</th>\n",
              "      <td>29.000000</td>\n",
              "      <td>7.000000</td>\n",
              "      <td>0.697500</td>\n",
              "      <td>20.000000</td>\n",
              "      <td>51.250000</td>\n",
              "      <td>15.000000</td>\n",
              "      <td>1.000000</td>\n",
              "      <td>0.000000</td>\n",
              "      <td>0.000000</td>\n",
              "      <td>0.000000</td>\n",
              "    </tr>\n",
              "    <tr>\n",
              "      <th>50%</th>\n",
              "      <td>40.000000</td>\n",
              "      <td>7.500000</td>\n",
              "      <td>0.820000</td>\n",
              "      <td>22.000000</td>\n",
              "      <td>60.000000</td>\n",
              "      <td>18.000000</td>\n",
              "      <td>1.000000</td>\n",
              "      <td>25.000000</td>\n",
              "      <td>0.000000</td>\n",
              "      <td>2.000000</td>\n",
              "    </tr>\n",
              "    <tr>\n",
              "      <th>75%</th>\n",
              "      <td>52.000000</td>\n",
              "      <td>8.000000</td>\n",
              "      <td>0.900000</td>\n",
              "      <td>27.000000</td>\n",
              "      <td>63.000000</td>\n",
              "      <td>27.250000</td>\n",
              "      <td>3.000000</td>\n",
              "      <td>50.000000</td>\n",
              "      <td>2.000000</td>\n",
              "      <td>3.000000</td>\n",
              "    </tr>\n",
              "    <tr>\n",
              "      <th>max</th>\n",
              "      <td>69.000000</td>\n",
              "      <td>10.000000</td>\n",
              "      <td>0.990000</td>\n",
              "      <td>30.000000</td>\n",
              "      <td>75.000000</td>\n",
              "      <td>56.000000</td>\n",
              "      <td>4.000000</td>\n",
              "      <td>200.000000</td>\n",
              "      <td>5.000000</td>\n",
              "      <td>5.000000</td>\n",
              "    </tr>\n",
              "  </tbody>\n",
              "</table>\n",
              "</div>\n",
              "      <button class=\"colab-df-convert\" onclick=\"convertToInteractive('df-9def5b00-2528-4382-898f-dfab469ae583')\"\n",
              "              title=\"Convert this dataframe to an interactive table.\"\n",
              "              style=\"display:none;\">\n",
              "        \n",
              "  <svg xmlns=\"http://www.w3.org/2000/svg\" height=\"24px\"viewBox=\"0 0 24 24\"\n",
              "       width=\"24px\">\n",
              "    <path d=\"M0 0h24v24H0V0z\" fill=\"none\"/>\n",
              "    <path d=\"M18.56 5.44l.94 2.06.94-2.06 2.06-.94-2.06-.94-.94-2.06-.94 2.06-2.06.94zm-11 1L8.5 8.5l.94-2.06 2.06-.94-2.06-.94L8.5 2.5l-.94 2.06-2.06.94zm10 10l.94 2.06.94-2.06 2.06-.94-2.06-.94-.94-2.06-.94 2.06-2.06.94z\"/><path d=\"M17.41 7.96l-1.37-1.37c-.4-.4-.92-.59-1.43-.59-.52 0-1.04.2-1.43.59L10.3 9.45l-7.72 7.72c-.78.78-.78 2.05 0 2.83L4 21.41c.39.39.9.59 1.41.59.51 0 1.02-.2 1.41-.59l7.78-7.78 2.81-2.81c.8-.78.8-2.07 0-2.86zM5.41 20L4 18.59l7.72-7.72 1.47 1.35L5.41 20z\"/>\n",
              "  </svg>\n",
              "      </button>\n",
              "      \n",
              "  <style>\n",
              "    .colab-df-container {\n",
              "      display:flex;\n",
              "      flex-wrap:wrap;\n",
              "      gap: 12px;\n",
              "    }\n",
              "\n",
              "    .colab-df-convert {\n",
              "      background-color: #E8F0FE;\n",
              "      border: none;\n",
              "      border-radius: 50%;\n",
              "      cursor: pointer;\n",
              "      display: none;\n",
              "      fill: #1967D2;\n",
              "      height: 32px;\n",
              "      padding: 0 0 0 0;\n",
              "      width: 32px;\n",
              "    }\n",
              "\n",
              "    .colab-df-convert:hover {\n",
              "      background-color: #E2EBFA;\n",
              "      box-shadow: 0px 1px 2px rgba(60, 64, 67, 0.3), 0px 1px 3px 1px rgba(60, 64, 67, 0.15);\n",
              "      fill: #174EA6;\n",
              "    }\n",
              "\n",
              "    [theme=dark] .colab-df-convert {\n",
              "      background-color: #3B4455;\n",
              "      fill: #D2E3FC;\n",
              "    }\n",
              "\n",
              "    [theme=dark] .colab-df-convert:hover {\n",
              "      background-color: #434B5C;\n",
              "      box-shadow: 0px 1px 3px 1px rgba(0, 0, 0, 0.15);\n",
              "      filter: drop-shadow(0px 1px 2px rgba(0, 0, 0, 0.3));\n",
              "      fill: #FFFFFF;\n",
              "    }\n",
              "  </style>\n",
              "\n",
              "      <script>\n",
              "        const buttonEl =\n",
              "          document.querySelector('#df-9def5b00-2528-4382-898f-dfab469ae583 button.colab-df-convert');\n",
              "        buttonEl.style.display =\n",
              "          google.colab.kernel.accessAllowed ? 'block' : 'none';\n",
              "\n",
              "        async function convertToInteractive(key) {\n",
              "          const element = document.querySelector('#df-9def5b00-2528-4382-898f-dfab469ae583');\n",
              "          const dataTable =\n",
              "            await google.colab.kernel.invokeFunction('convertToInteractive',\n",
              "                                                     [key], {});\n",
              "          if (!dataTable) return;\n",
              "\n",
              "          const docLinkHtml = 'Like what you see? Visit the ' +\n",
              "            '<a target=\"_blank\" href=https://colab.research.google.com/notebooks/data_table.ipynb>data table notebook</a>'\n",
              "            + ' to learn more about interactive tables.';\n",
              "          element.innerHTML = '';\n",
              "          dataTable['output_type'] = 'display_data';\n",
              "          await google.colab.output.renderOutput(dataTable, element);\n",
              "          const docLink = document.createElement('div');\n",
              "          docLink.innerHTML = docLinkHtml;\n",
              "          element.appendChild(docLink);\n",
              "        }\n",
              "      </script>\n",
              "    </div>\n",
              "  </div>\n",
              "  "
            ]
          },
          "metadata": {},
          "execution_count": 17
        }
      ]
    },
    {
      "cell_type": "markdown",
      "source": [
        "Вывод: всего 10 метрических переменных, можем увидеть средние, минимальные/максимальные, значения, среднеквадратические отклонения и тд (общая сводная таблица) для каждой из переменных\n",
        "\n",
        "К примеру: средний возраст людей - 40 лет, минимальное значение кол-ва времени, которое спал испытуемый, - 5 часов, максимально испытуемые вставали 4 раза за ночь и тд"
      ],
      "metadata": {
        "id": "_O2Fsxa7QZCX"
      }
    },
    {
      "cell_type": "code",
      "source": [
        "df.mean()"
      ],
      "metadata": {
        "colab": {
          "base_uri": "https://localhost:8080/"
        },
        "id": "F64CgxMNMJrV",
        "outputId": "d7c2fe13-6e61-44a8-81f6-afac1051e4af"
      },
      "execution_count": 18,
      "outputs": [
        {
          "output_type": "stream",
          "name": "stderr",
          "text": [
            "<ipython-input-18-c61f0c8f89b5>:1: FutureWarning: Dropping of nuisance columns in DataFrame reductions (with 'numeric_only=None') is deprecated; in a future version this will raise TypeError.  Select only valid columns before calling the reduction.\n",
            "  df.mean()\n"
          ]
        },
        {
          "output_type": "execute_result",
          "data": {
            "text/plain": [
              "Age                       40.285398\n",
              "Sleep duration             7.465708\n",
              "Sleep efficiency           0.788916\n",
              "REM sleep percentage      23.002212\n",
              "Deep sleep percentage     52.960177\n",
              "Light sleep percentage    24.831858\n",
              "Awakenings                 1.641204\n",
              "Caffeine consumption      23.653396\n",
              "Alcohol consumption        1.245413\n",
              "Exercise frequency         1.791480\n",
              "dtype: float64"
            ]
          },
          "metadata": {},
          "execution_count": 18
        }
      ]
    },
    {
      "cell_type": "markdown",
      "source": [
        "Вывод: эта функция показывает средние показатели по переменной, к примеру, в среднем люди встают 1 раз за ночь"
      ],
      "metadata": {
        "id": "67QDpvJ3U9pW"
      }
    },
    {
      "cell_type": "code",
      "source": [
        "df.min()"
      ],
      "metadata": {
        "colab": {
          "base_uri": "https://localhost:8080/"
        },
        "id": "jh7SdHpnMU8l",
        "outputId": "623846cd-d45c-4823-ab7d-08609abad10b"
      },
      "execution_count": 19,
      "outputs": [
        {
          "output_type": "execute_result",
          "data": {
            "text/plain": [
              "Age                                         9\n",
              "Gender                                 Female\n",
              "Bedtime                   2021-01-03 00:30:00\n",
              "Wakeup time               2021-01-03 08:30:00\n",
              "Sleep duration                            5.0\n",
              "Sleep efficiency                          0.5\n",
              "REM sleep percentage                       15\n",
              "Deep sleep percentage                      20\n",
              "Light sleep percentage                      7\n",
              "Awakenings                                0.0\n",
              "Caffeine consumption                      0.0\n",
              "Alcohol consumption                       0.0\n",
              "Smoking status                             No\n",
              "Exercise frequency                        0.0\n",
              "dtype: object"
            ]
          },
          "metadata": {},
          "execution_count": 19
        }
      ]
    },
    {
      "cell_type": "markdown",
      "source": [
        "Вывод: эта функция показывает минимальное значение по переменной, к примеру, минимально испытуемый не пил алкоголь вообще"
      ],
      "metadata": {
        "id": "o9kr_B4pVP7U"
      }
    },
    {
      "cell_type": "code",
      "source": [
        "df.max()"
      ],
      "metadata": {
        "colab": {
          "base_uri": "https://localhost:8080/"
        },
        "id": "HqgQGScbMYU-",
        "outputId": "a3ad4aac-7df7-4440-ac4d-f9b5dfbaf1d3"
      },
      "execution_count": 20,
      "outputs": [
        {
          "output_type": "execute_result",
          "data": {
            "text/plain": [
              "Age                                        69\n",
              "Gender                                   Male\n",
              "Bedtime                   2021-12-31 21:00:00\n",
              "Wakeup time               2021-12-31 06:30:00\n",
              "Sleep duration                           10.0\n",
              "Sleep efficiency                         0.99\n",
              "REM sleep percentage                       30\n",
              "Deep sleep percentage                      75\n",
              "Light sleep percentage                     56\n",
              "Awakenings                                4.0\n",
              "Caffeine consumption                    200.0\n",
              "Alcohol consumption                       5.0\n",
              "Smoking status                            Yes\n",
              "Exercise frequency                        5.0\n",
              "dtype: object"
            ]
          },
          "metadata": {},
          "execution_count": 20
        }
      ]
    },
    {
      "cell_type": "markdown",
      "source": [
        "Вывод: эта функция показывает максимальное значение по переменной, к примеру, максимально испытуемый выпил 200 мг кофеина"
      ],
      "metadata": {
        "id": "pepYXu47W06a"
      }
    },
    {
      "cell_type": "code",
      "source": [
        "df.mode()[:1]"
      ],
      "metadata": {
        "colab": {
          "base_uri": "https://localhost:8080/",
          "height": 159
        },
        "id": "NuzChQe2Mbex",
        "outputId": "3d494031-b5ee-4b94-d590-6b3934f9c632"
      },
      "execution_count": 21,
      "outputs": [
        {
          "output_type": "execute_result",
          "data": {
            "text/plain": [
              "    Age Gender              Bedtime          Wakeup time  Sleep duration  \\\n",
              "0  27.0   Male  2021-03-11 01:00:00  2021-02-07 08:00:00             7.0   \n",
              "\n",
              "   Sleep efficiency  REM sleep percentage  Deep sleep percentage  \\\n",
              "0               0.9                  28.0                   60.0   \n",
              "\n",
              "   Light sleep percentage  Awakenings  Caffeine consumption  \\\n",
              "0                    17.0         1.0                   0.0   \n",
              "\n",
              "   Alcohol consumption Smoking status  Exercise frequency  \n",
              "0                  0.0             No                 3.0  "
            ],
            "text/html": [
              "\n",
              "  <div id=\"df-bf50747d-6fbd-4664-b301-c1e02d80fd8e\">\n",
              "    <div class=\"colab-df-container\">\n",
              "      <div>\n",
              "<style scoped>\n",
              "    .dataframe tbody tr th:only-of-type {\n",
              "        vertical-align: middle;\n",
              "    }\n",
              "\n",
              "    .dataframe tbody tr th {\n",
              "        vertical-align: top;\n",
              "    }\n",
              "\n",
              "    .dataframe thead th {\n",
              "        text-align: right;\n",
              "    }\n",
              "</style>\n",
              "<table border=\"1\" class=\"dataframe\">\n",
              "  <thead>\n",
              "    <tr style=\"text-align: right;\">\n",
              "      <th></th>\n",
              "      <th>Age</th>\n",
              "      <th>Gender</th>\n",
              "      <th>Bedtime</th>\n",
              "      <th>Wakeup time</th>\n",
              "      <th>Sleep duration</th>\n",
              "      <th>Sleep efficiency</th>\n",
              "      <th>REM sleep percentage</th>\n",
              "      <th>Deep sleep percentage</th>\n",
              "      <th>Light sleep percentage</th>\n",
              "      <th>Awakenings</th>\n",
              "      <th>Caffeine consumption</th>\n",
              "      <th>Alcohol consumption</th>\n",
              "      <th>Smoking status</th>\n",
              "      <th>Exercise frequency</th>\n",
              "    </tr>\n",
              "  </thead>\n",
              "  <tbody>\n",
              "    <tr>\n",
              "      <th>0</th>\n",
              "      <td>27.0</td>\n",
              "      <td>Male</td>\n",
              "      <td>2021-03-11 01:00:00</td>\n",
              "      <td>2021-02-07 08:00:00</td>\n",
              "      <td>7.0</td>\n",
              "      <td>0.9</td>\n",
              "      <td>28.0</td>\n",
              "      <td>60.0</td>\n",
              "      <td>17.0</td>\n",
              "      <td>1.0</td>\n",
              "      <td>0.0</td>\n",
              "      <td>0.0</td>\n",
              "      <td>No</td>\n",
              "      <td>3.0</td>\n",
              "    </tr>\n",
              "  </tbody>\n",
              "</table>\n",
              "</div>\n",
              "      <button class=\"colab-df-convert\" onclick=\"convertToInteractive('df-bf50747d-6fbd-4664-b301-c1e02d80fd8e')\"\n",
              "              title=\"Convert this dataframe to an interactive table.\"\n",
              "              style=\"display:none;\">\n",
              "        \n",
              "  <svg xmlns=\"http://www.w3.org/2000/svg\" height=\"24px\"viewBox=\"0 0 24 24\"\n",
              "       width=\"24px\">\n",
              "    <path d=\"M0 0h24v24H0V0z\" fill=\"none\"/>\n",
              "    <path d=\"M18.56 5.44l.94 2.06.94-2.06 2.06-.94-2.06-.94-.94-2.06-.94 2.06-2.06.94zm-11 1L8.5 8.5l.94-2.06 2.06-.94-2.06-.94L8.5 2.5l-.94 2.06-2.06.94zm10 10l.94 2.06.94-2.06 2.06-.94-2.06-.94-.94-2.06-.94 2.06-2.06.94z\"/><path d=\"M17.41 7.96l-1.37-1.37c-.4-.4-.92-.59-1.43-.59-.52 0-1.04.2-1.43.59L10.3 9.45l-7.72 7.72c-.78.78-.78 2.05 0 2.83L4 21.41c.39.39.9.59 1.41.59.51 0 1.02-.2 1.41-.59l7.78-7.78 2.81-2.81c.8-.78.8-2.07 0-2.86zM5.41 20L4 18.59l7.72-7.72 1.47 1.35L5.41 20z\"/>\n",
              "  </svg>\n",
              "      </button>\n",
              "      \n",
              "  <style>\n",
              "    .colab-df-container {\n",
              "      display:flex;\n",
              "      flex-wrap:wrap;\n",
              "      gap: 12px;\n",
              "    }\n",
              "\n",
              "    .colab-df-convert {\n",
              "      background-color: #E8F0FE;\n",
              "      border: none;\n",
              "      border-radius: 50%;\n",
              "      cursor: pointer;\n",
              "      display: none;\n",
              "      fill: #1967D2;\n",
              "      height: 32px;\n",
              "      padding: 0 0 0 0;\n",
              "      width: 32px;\n",
              "    }\n",
              "\n",
              "    .colab-df-convert:hover {\n",
              "      background-color: #E2EBFA;\n",
              "      box-shadow: 0px 1px 2px rgba(60, 64, 67, 0.3), 0px 1px 3px 1px rgba(60, 64, 67, 0.15);\n",
              "      fill: #174EA6;\n",
              "    }\n",
              "\n",
              "    [theme=dark] .colab-df-convert {\n",
              "      background-color: #3B4455;\n",
              "      fill: #D2E3FC;\n",
              "    }\n",
              "\n",
              "    [theme=dark] .colab-df-convert:hover {\n",
              "      background-color: #434B5C;\n",
              "      box-shadow: 0px 1px 3px 1px rgba(0, 0, 0, 0.15);\n",
              "      filter: drop-shadow(0px 1px 2px rgba(0, 0, 0, 0.3));\n",
              "      fill: #FFFFFF;\n",
              "    }\n",
              "  </style>\n",
              "\n",
              "      <script>\n",
              "        const buttonEl =\n",
              "          document.querySelector('#df-bf50747d-6fbd-4664-b301-c1e02d80fd8e button.colab-df-convert');\n",
              "        buttonEl.style.display =\n",
              "          google.colab.kernel.accessAllowed ? 'block' : 'none';\n",
              "\n",
              "        async function convertToInteractive(key) {\n",
              "          const element = document.querySelector('#df-bf50747d-6fbd-4664-b301-c1e02d80fd8e');\n",
              "          const dataTable =\n",
              "            await google.colab.kernel.invokeFunction('convertToInteractive',\n",
              "                                                     [key], {});\n",
              "          if (!dataTable) return;\n",
              "\n",
              "          const docLinkHtml = 'Like what you see? Visit the ' +\n",
              "            '<a target=\"_blank\" href=https://colab.research.google.com/notebooks/data_table.ipynb>data table notebook</a>'\n",
              "            + ' to learn more about interactive tables.';\n",
              "          element.innerHTML = '';\n",
              "          dataTable['output_type'] = 'display_data';\n",
              "          await google.colab.output.renderOutput(dataTable, element);\n",
              "          const docLink = document.createElement('div');\n",
              "          docLink.innerHTML = docLinkHtml;\n",
              "          element.appendChild(docLink);\n",
              "        }\n",
              "      </script>\n",
              "    </div>\n",
              "  </div>\n",
              "  "
            ]
          },
          "metadata": {},
          "execution_count": 21
        }
      ]
    },
    {
      "cell_type": "markdown",
      "source": [
        "Вывод: эта функция показывает моду/самое часто встречаемое значение по переменной, к примеру, в исследовании участвовало больше мужчин"
      ],
      "metadata": {
        "id": "mQbzTmsuXBru"
      }
    },
    {
      "cell_type": "code",
      "source": [
        "df.median()"
      ],
      "metadata": {
        "colab": {
          "base_uri": "https://localhost:8080/"
        },
        "id": "UY_SEfxXOMCs",
        "outputId": "ef3c5709-f93c-4123-a6c9-75dfb22b0436"
      },
      "execution_count": 22,
      "outputs": [
        {
          "output_type": "stream",
          "name": "stderr",
          "text": [
            "<ipython-input-22-6d467abf240d>:1: FutureWarning: Dropping of nuisance columns in DataFrame reductions (with 'numeric_only=None') is deprecated; in a future version this will raise TypeError.  Select only valid columns before calling the reduction.\n",
            "  df.median()\n"
          ]
        },
        {
          "output_type": "execute_result",
          "data": {
            "text/plain": [
              "Age                       40.00\n",
              "Sleep duration             7.50\n",
              "Sleep efficiency           0.82\n",
              "REM sleep percentage      22.00\n",
              "Deep sleep percentage     60.00\n",
              "Light sleep percentage    18.00\n",
              "Awakenings                 1.00\n",
              "Caffeine consumption      25.00\n",
              "Alcohol consumption        0.00\n",
              "Exercise frequency         2.00\n",
              "dtype: float64"
            ]
          },
          "metadata": {},
          "execution_count": 22
        }
      ]
    },
    {
      "cell_type": "markdown",
      "source": [
        "Вывод: эта функция показывает медиана/точка на шкале измеренных значений, выше и ниже которой лежит по половине всех измеренных значений, к примеру, медиана возраста равна 40, как и средний показатель, но, если смотреть на более точные измерения, то медиана меньше"
      ],
      "metadata": {
        "id": "POQ3GCeGXQ7l"
      }
    },
    {
      "cell_type": "code",
      "source": [
        "df.quantile(0.5) #медиана / 50-й перцентиль / 2-й квартиль"
      ],
      "metadata": {
        "colab": {
          "base_uri": "https://localhost:8080/"
        },
        "id": "bjlNSq2BOcJz",
        "outputId": "46b97724-3b2f-4bf4-be9c-1ec48e4ed1bf"
      },
      "execution_count": 23,
      "outputs": [
        {
          "output_type": "execute_result",
          "data": {
            "text/plain": [
              "Age                       40.00\n",
              "Sleep duration             7.50\n",
              "Sleep efficiency           0.82\n",
              "REM sleep percentage      22.00\n",
              "Deep sleep percentage     60.00\n",
              "Light sleep percentage    18.00\n",
              "Awakenings                 1.00\n",
              "Caffeine consumption      25.00\n",
              "Alcohol consumption        0.00\n",
              "Exercise frequency         2.00\n",
              "Name: 0.5, dtype: float64"
            ]
          },
          "metadata": {},
          "execution_count": 23
        }
      ]
    },
    {
      "cell_type": "markdown",
      "source": [
        "Вывод: эта функция показывает 50-й перцентиль / 2-й квартиль или медиану (они все равны) по каждой переменной, к примеру, медиана кол-ва подъемов за ночь равна 1, то есть 50-й перцентиль / 2-й квартиль равны тому же значению"
      ],
      "metadata": {
        "id": "R2ctp-umYXxq"
      }
    },
    {
      "cell_type": "code",
      "source": [
        "df.var() #дисперсия"
      ],
      "metadata": {
        "colab": {
          "base_uri": "https://localhost:8080/"
        },
        "id": "vyfmGnAyOg_E",
        "outputId": "7b92087a-9e4f-463c-8cf9-40d6adcabac9"
      },
      "execution_count": 24,
      "outputs": [
        {
          "output_type": "stream",
          "name": "stderr",
          "text": [
            "<ipython-input-24-2a6efaa779d9>:1: FutureWarning: Dropping of nuisance columns in DataFrame reductions (with 'numeric_only=None') is deprecated; in a future version this will raise TypeError.  Select only valid columns before calling the reduction.\n",
            "  df.var() #дисперсия\n"
          ]
        },
        {
          "output_type": "execute_result",
          "data": {
            "text/plain": [
              "Age                       173.508168\n",
              "Sleep duration              0.751039\n",
              "Sleep efficiency            0.018289\n",
              "REM sleep percentage       15.780483\n",
              "Deep sleep percentage     242.166925\n",
              "Light sleep percentage    229.545945\n",
              "Awakenings                  1.840804\n",
              "Caffeine consumption      912.208222\n",
              "Alcohol consumption         2.700554\n",
              "Exercise frequency          2.039568\n",
              "dtype: float64"
            ]
          },
          "metadata": {},
          "execution_count": 24
        }
      ]
    },
    {
      "cell_type": "markdown",
      "source": [
        "Вывод: эта функция показывает дисперсию/отражает значения, возведенные в квадрат, по переменной, к примеру, дисперсия возраста - это 173 года"
      ],
      "metadata": {
        "id": "3PbDeKm0ZRce"
      }
    },
    {
      "cell_type": "code",
      "source": [
        "df.std() #cреднеквадратическое отклонение"
      ],
      "metadata": {
        "colab": {
          "base_uri": "https://localhost:8080/"
        },
        "id": "9Tsv4_vnOkdF",
        "outputId": "9b008479-6750-4565-868a-ea3aeb6e689a"
      },
      "execution_count": 25,
      "outputs": [
        {
          "output_type": "stream",
          "name": "stderr",
          "text": [
            "<ipython-input-25-80230ae342e7>:1: FutureWarning: Dropping of nuisance columns in DataFrame reductions (with 'numeric_only=None') is deprecated; in a future version this will raise TypeError.  Select only valid columns before calling the reduction.\n",
            "  df.std() #cреднеквадратическое отклонение\n"
          ]
        },
        {
          "output_type": "execute_result",
          "data": {
            "text/plain": [
              "Age                       13.172250\n",
              "Sleep duration             0.866625\n",
              "Sleep efficiency           0.135237\n",
              "REM sleep percentage       3.972466\n",
              "Deep sleep percentage     15.561713\n",
              "Light sleep percentage    15.150774\n",
              "Awakenings                 1.356762\n",
              "Caffeine consumption      30.202785\n",
              "Alcohol consumption        1.643336\n",
              "Exercise frequency         1.428134\n",
              "dtype: float64"
            ]
          },
          "metadata": {},
          "execution_count": 25
        }
      ]
    },
    {
      "cell_type": "markdown",
      "source": [
        "Вывод: эта функция показывает cреднеквадратическое отклонение/квадратный корень из дисперсии по переменной, используется для оценки того, насколько точно среднее арифметическое отражает значения исследуемых данных, к примеру, для эффективности сна cреднеквадратическое отклонение свидетельствует о незначительном отклонении реальных значений от среднего арифметического"
      ],
      "metadata": {
        "id": "y-VKuKcoaI8P"
      }
    },
    {
      "cell_type": "code",
      "source": [
        "df.quantile(0.1) #10-й перцентиль / 1-й дециль"
      ],
      "metadata": {
        "colab": {
          "base_uri": "https://localhost:8080/"
        },
        "id": "Ktze2mMbOota",
        "outputId": "ca6fd7a9-17ad-42ae-8367-3fc3b5aac4cf"
      },
      "execution_count": 26,
      "outputs": [
        {
          "output_type": "execute_result",
          "data": {
            "text/plain": [
              "Age                       24.000\n",
              "Sleep duration             7.000\n",
              "Sleep efficiency           0.551\n",
              "REM sleep percentage      18.000\n",
              "Deep sleep percentage     25.000\n",
              "Light sleep percentage    10.300\n",
              "Awakenings                 0.000\n",
              "Caffeine consumption       0.000\n",
              "Alcohol consumption        0.000\n",
              "Exercise frequency         0.000\n",
              "Name: 0.1, dtype: float64"
            ]
          },
          "metadata": {},
          "execution_count": 26
        }
      ]
    },
    {
      "cell_type": "markdown",
      "source": [
        "Вывод: эта функция показывает 1-й дециль/точка на шкале значений переменной, ниже значения которой находятся 10% значений переменной, к примеру, 10% людей младше 24 лет"
      ],
      "metadata": {
        "id": "thzfUOPPa3Ls"
      }
    },
    {
      "cell_type": "code",
      "source": [
        "df.quantile(0.25) #25-й перцентиль / 1-й квартиль"
      ],
      "metadata": {
        "colab": {
          "base_uri": "https://localhost:8080/"
        },
        "id": "G8QQdU4gOxDW",
        "outputId": "edf7defb-8739-49e3-a3e2-fda521a6062b"
      },
      "execution_count": 27,
      "outputs": [
        {
          "output_type": "execute_result",
          "data": {
            "text/plain": [
              "Age                       29.0000\n",
              "Sleep duration             7.0000\n",
              "Sleep efficiency           0.6975\n",
              "REM sleep percentage      20.0000\n",
              "Deep sleep percentage     51.2500\n",
              "Light sleep percentage    15.0000\n",
              "Awakenings                 1.0000\n",
              "Caffeine consumption       0.0000\n",
              "Alcohol consumption        0.0000\n",
              "Exercise frequency         0.0000\n",
              "Name: 0.25, dtype: float64"
            ]
          },
          "metadata": {},
          "execution_count": 27
        }
      ]
    },
    {
      "cell_type": "markdown",
      "source": [
        "Вывод: эта функция показывает 1-й квартиль/точка на шкале значений переменной, ниже значения которой находятся 25% значений переменной, к примеру, точно 25% людей не пили кофеин"
      ],
      "metadata": {
        "id": "FQlKp2OebrqL"
      }
    },
    {
      "cell_type": "code",
      "source": [
        "df.quantile(0.75) #75-й перцентиль / 3-й квартиль"
      ],
      "metadata": {
        "colab": {
          "base_uri": "https://localhost:8080/"
        },
        "id": "wBgUjQZXO1Cc",
        "outputId": "a809f716-6886-4fca-a221-19d93cce5db8"
      },
      "execution_count": 28,
      "outputs": [
        {
          "output_type": "execute_result",
          "data": {
            "text/plain": [
              "Age                       52.00\n",
              "Sleep duration             8.00\n",
              "Sleep efficiency           0.90\n",
              "REM sleep percentage      27.00\n",
              "Deep sleep percentage     63.00\n",
              "Light sleep percentage    27.25\n",
              "Awakenings                 3.00\n",
              "Caffeine consumption      50.00\n",
              "Alcohol consumption        2.00\n",
              "Exercise frequency         3.00\n",
              "Name: 0.75, dtype: float64"
            ]
          },
          "metadata": {},
          "execution_count": 28
        }
      ]
    },
    {
      "cell_type": "markdown",
      "source": [
        "Вывод: эта функция показывает 3-й квартиль/точка на шкале значений переменной, ниже значения которой находятся 75% значений переменной, к примеру, 75% людей имеют эффективность сна меньше 0.9"
      ],
      "metadata": {
        "id": "G1Ti_wBqcAEK"
      }
    },
    {
      "cell_type": "code",
      "source": [
        "df.quantile(0.9) #90-й перцентиль, 9-й дециль"
      ],
      "metadata": {
        "colab": {
          "base_uri": "https://localhost:8080/"
        },
        "id": "lxCY3SV4O5Hz",
        "outputId": "7d44aeb1-7db8-4a32-a384-26f67651c5d1"
      },
      "execution_count": 29,
      "outputs": [
        {
          "output_type": "execute_result",
          "data": {
            "text/plain": [
              "Age                       57.00\n",
              "Sleep duration             8.50\n",
              "Sleep efficiency           0.94\n",
              "REM sleep percentage      28.00\n",
              "Deep sleep percentage     69.50\n",
              "Light sleep percentage    52.00\n",
              "Awakenings                 4.00\n",
              "Caffeine consumption      50.00\n",
              "Alcohol consumption        4.00\n",
              "Exercise frequency         4.00\n",
              "Name: 0.9, dtype: float64"
            ]
          },
          "metadata": {},
          "execution_count": 29
        }
      ]
    },
    {
      "cell_type": "markdown",
      "source": [
        "Вывод: эта функция показывает 9-й квартиль/точка на шкале значений переменной, ниже значения которой находятся 90% значений переменной, к примеру, 90% людей спали меньше 8,5 часов"
      ],
      "metadata": {
        "id": "mc_ib2rjcNq6"
      }
    },
    {
      "cell_type": "code",
      "source": [
        "df.quantile(0.75) - df.quantile(0.25) #межквартильный размах"
      ],
      "metadata": {
        "colab": {
          "base_uri": "https://localhost:8080/"
        },
        "id": "4wiHlydwO8iO",
        "outputId": "92dde5ec-0233-4ce8-8a44-e3dd88a16bb0"
      },
      "execution_count": 30,
      "outputs": [
        {
          "output_type": "execute_result",
          "data": {
            "text/plain": [
              "Age                       23.0000\n",
              "Sleep duration             1.0000\n",
              "Sleep efficiency           0.2025\n",
              "REM sleep percentage       7.0000\n",
              "Deep sleep percentage     11.7500\n",
              "Light sleep percentage    12.2500\n",
              "Awakenings                 2.0000\n",
              "Caffeine consumption      50.0000\n",
              "Alcohol consumption        2.0000\n",
              "Exercise frequency         3.0000\n",
              "dtype: float64"
            ]
          },
          "metadata": {},
          "execution_count": 30
        }
      ]
    },
    {
      "cell_type": "markdown",
      "source": [
        "Вывод: эта функция показывает межквартильный размах/где расположены 50% центральных данных, к примеру, межквартильный размах для кол-ва выпитого кофеина - 50мг"
      ],
      "metadata": {
        "id": "NpruwZ9AcdA0"
      }
    },
    {
      "cell_type": "code",
      "source": [
        "(df.quantile(0.75) - df.quantile(0.25))/2 #межквартильная широта"
      ],
      "metadata": {
        "colab": {
          "base_uri": "https://localhost:8080/"
        },
        "id": "x91Hi2svPBU5",
        "outputId": "4180ef1c-c808-4189-9434-8f7affa673ad"
      },
      "execution_count": 31,
      "outputs": [
        {
          "output_type": "execute_result",
          "data": {
            "text/plain": [
              "Age                       11.50000\n",
              "Sleep duration             0.50000\n",
              "Sleep efficiency           0.10125\n",
              "REM sleep percentage       3.50000\n",
              "Deep sleep percentage      5.87500\n",
              "Light sleep percentage     6.12500\n",
              "Awakenings                 1.00000\n",
              "Caffeine consumption      25.00000\n",
              "Alcohol consumption        1.00000\n",
              "Exercise frequency         1.50000\n",
              "dtype: float64"
            ]
          },
          "metadata": {},
          "execution_count": 31
        }
      ]
    },
    {
      "cell_type": "markdown",
      "source": [
        "Вывод: эта функция показывает межквартильную широту/оценка меры разброса, к примеру, у эффективности сна межквартильная широта маленькая, значит маленькое рассеяние"
      ],
      "metadata": {
        "id": "hAZLyTIkc3iU"
      }
    },
    {
      "cell_type": "code",
      "source": [
        "df.quantile(0.9)/df.quantile(0.1) #децильное отношение"
      ],
      "metadata": {
        "colab": {
          "base_uri": "https://localhost:8080/"
        },
        "id": "IIEjX99yPHG_",
        "outputId": "dcd75f54-073f-4bb2-c991-7e3f28a9ae54"
      },
      "execution_count": 32,
      "outputs": [
        {
          "output_type": "execute_result",
          "data": {
            "text/plain": [
              "Age                       2.375000\n",
              "Sleep duration            1.214286\n",
              "Sleep efficiency          1.705989\n",
              "REM sleep percentage      1.555556\n",
              "Deep sleep percentage     2.780000\n",
              "Light sleep percentage    5.048544\n",
              "Awakenings                     inf\n",
              "Caffeine consumption           inf\n",
              "Alcohol consumption            inf\n",
              "Exercise frequency             inf\n",
              "dtype: float64"
            ]
          },
          "metadata": {},
          "execution_count": 32
        }
      ]
    },
    {
      "cell_type": "markdown",
      "source": [
        "Вывод: эта функция показывает децильное отношение/отношение границы 10-го дециля к границе 1-го дециля, к примеру, наиболее неравномерно данные распределены в для переменной Light sleep percentage, наиболее равномерно данные распределены для переменной для Sleep duration"
      ],
      "metadata": {
        "id": "ODuLabmIAI02"
      }
    },
    {
      "cell_type": "markdown",
      "source": [
        "# Итоги"
      ],
      "metadata": {
        "id": "mv4rlHeeeu-f"
      }
    },
    {
      "cell_type": "markdown",
      "source": [
        "Цель:\n",
        "* В ходе исследования мы выявили какие факторы влияют на эффективность сна. Следовательно, цель достигнута. \n",
        "\n",
        "Задачи:\n",
        "* Все поставленные задачи были выполнены. Это наглядно видно в нашем проекте.\n",
        "\n",
        "Общие выводы:\n",
        "* Нами были выдвинуты 10 исселовательских гипотез. 5 из которых были подтверждены и 5 опровергнуты. \n",
        "* Негативными факторами, влияющие на  эффективность сна, являются: алкоголь, курение. \n",
        "* Нейтральные: возраст, пол. \n",
        "* Положительными: режим и здоровый образ жизни. \n",
        "* Наши многие ожидания подтвердились.Но больше всего нас удивила гипотеза \"Курение пагубно влияет на эффективность сна\". В ходе начала исследование, мы думали, что курение не зависит от сна и решили убедиться в этом, но при анализе увидели обратный результат.\n"
      ],
      "metadata": {
        "id": "yd_nicLGexV2"
      }
    },
    {
      "cell_type": "markdown",
      "source": [
        "Авторы: Волкова Татьяна и Ларина Дарья (БПИ224)"
      ],
      "metadata": {
        "id": "BmGmtkbA_hp9"
      }
    }
  ]
}